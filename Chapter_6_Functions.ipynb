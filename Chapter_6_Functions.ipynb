{
  "nbformat": 4,
  "nbformat_minor": 0,
  "metadata": {
    "colab": {
      "provenance": [],
      "authorship_tag": "ABX9TyNTy7K75pf3WT7LEiXEX9yO",
      "include_colab_link": true
    },
    "kernelspec": {
      "name": "python3",
      "display_name": "Python 3"
    },
    "language_info": {
      "name": "python"
    }
  },
  "cells": [
    {
      "cell_type": "markdown",
      "metadata": {
        "id": "view-in-github",
        "colab_type": "text"
      },
      "source": [
        "<a href=\"https://colab.research.google.com/github/ranamaddy/pythonBasic2023/blob/main/Chapter_6_Functions.ipynb\" target=\"_parent\"><img src=\"https://colab.research.google.com/assets/colab-badge.svg\" alt=\"Open In Colab\"/></a>"
      ]
    },
    {
      "cell_type": "markdown",
      "source": [
        "Functions allow you to organize code into reusable blocks that can be called to perform specific tasks.\n",
        "\n",
        "**6.1 Defining and Calling Functions**\n",
        "In Python, functions are defined using the **def** keyword:"
      ],
      "metadata": {
        "id": "0fiSBW0XKHpG"
      }
    },
    {
      "cell_type": "code",
      "execution_count": null,
      "metadata": {
        "id": "lVRW30zrI-8r"
      },
      "outputs": [],
      "source": [
        "def function_name():\n",
        "  # code to execute"
      ]
    },
    {
      "cell_type": "markdown",
      "source": [
        "**For example:**"
      ],
      "metadata": {
        "id": "eACfFek0KRBM"
      }
    },
    {
      "cell_type": "code",
      "source": [
        "def print_text():\n",
        "  print(\"This is some text\")"
      ],
      "metadata": {
        "id": "-QEivsOJKThZ"
      },
      "execution_count": 1,
      "outputs": []
    },
    {
      "cell_type": "markdown",
      "source": [
        "**We call functions by specifying the function name followed by parentheses:**"
      ],
      "metadata": {
        "id": "ulFp7C7cKYzY"
      }
    },
    {
      "cell_type": "code",
      "source": [
        "print_text()"
      ],
      "metadata": {
        "colab": {
          "base_uri": "https://localhost:8080/"
        },
        "id": "pyilgmv0KbFG",
        "outputId": "e9902ca6-76b6-4240-cd51-9e40af831fae"
      },
      "execution_count": 2,
      "outputs": [
        {
          "output_type": "stream",
          "name": "stdout",
          "text": [
            "This is some text\n"
          ]
        }
      ]
    },
    {
      "cell_type": "markdown",
      "source": [
        "When called, the code inside the function is executed.\n",
        "\n",
        "Let's see some more examples:\n",
        "\n",
        "**Example 1: Simple function**"
      ],
      "metadata": {
        "id": "lne3q33nKfil"
      }
    },
    {
      "cell_type": "code",
      "source": [
        "def hello():\n",
        "  print(\"Hello World!\")\n",
        "\n",
        "hello()"
      ],
      "metadata": {
        "colab": {
          "base_uri": "https://localhost:8080/"
        },
        "id": "WMaO7JF0KiN2",
        "outputId": "f98ff78b-df5b-42ab-cf00-a1f93edd0354"
      },
      "execution_count": 3,
      "outputs": [
        {
          "output_type": "stream",
          "name": "stdout",
          "text": [
            "Hello World!\n"
          ]
        }
      ]
    },
    {
      "cell_type": "markdown",
      "source": [
        "**Example 2: Function with arguments**"
      ],
      "metadata": {
        "id": "Dlv6imgCKmA9"
      }
    },
    {
      "cell_type": "code",
      "source": [
        "def print_name(name):\n",
        "  print(name)\n",
        "\n",
        "print_name(\"John\")\n",
        "print_name(\"Sarah\")"
      ],
      "metadata": {
        "colab": {
          "base_uri": "https://localhost:8080/"
        },
        "id": "VEGUqfPtKoOl",
        "outputId": "31dd9021-ecb4-4b52-e51e-908776c17fb4"
      },
      "execution_count": 4,
      "outputs": [
        {
          "output_type": "stream",
          "name": "stdout",
          "text": [
            "John\n",
            "Sarah\n"
          ]
        }
      ]
    },
    {
      "cell_type": "markdown",
      "source": [
        "**Example 3: Function returning value**"
      ],
      "metadata": {
        "id": "rIdXYi1GKrf4"
      }
    },
    {
      "cell_type": "code",
      "source": [
        "def get_square(num):\n",
        "  return num * num\n",
        "\n",
        "result = get_square(5)\n",
        "print(result)"
      ],
      "metadata": {
        "colab": {
          "base_uri": "https://localhost:8080/"
        },
        "id": "d6SKeJGFKt_F",
        "outputId": "7e5f4a4e-73a4-457e-842c-e3411c5010a0"
      },
      "execution_count": 5,
      "outputs": [
        {
          "output_type": "stream",
          "name": "stdout",
          "text": [
            "25\n"
          ]
        }
      ]
    },
    {
      "cell_type": "markdown",
      "source": [
        "**6.2 Function Arguments**\n",
        "We can define functions that take input values called arguments.\n",
        "\n",
        "Arguments are specified in the function definition:"
      ],
      "metadata": {
        "id": "CxnZNhDHKyEp"
      }
    },
    {
      "cell_type": "code",
      "source": [
        "def func(arg1, arg2):\n",
        "  # use args"
      ],
      "metadata": {
        "id": "k7DFrUzuK0oo"
      },
      "execution_count": null,
      "outputs": []
    },
    {
      "cell_type": "markdown",
      "source": [
        "We pass arguments while calling the function:"
      ],
      "metadata": {
        "id": "LDW2TeBmK358"
      }
    },
    {
      "cell_type": "code",
      "source": [
        "func(10, 20)"
      ],
      "metadata": {
        "id": "vUqQxNyZK5c-"
      },
      "execution_count": null,
      "outputs": []
    },
    {
      "cell_type": "markdown",
      "source": [
        "Arguments are taken by parameters - variables that hold argument values.\n",
        "\n",
        "**For example:**"
      ],
      "metadata": {
        "id": "1KUVwGOuLBI-"
      }
    },
    {
      "cell_type": "code",
      "source": [
        "def multiply(num1, num2):\n",
        "  result = num1 * num2\n",
        "  return result\n",
        "\n",
        "res = multiply(3, 5)\n",
        "print(res)"
      ],
      "metadata": {
        "colab": {
          "base_uri": "https://localhost:8080/"
        },
        "id": "BErxGCybLFpt",
        "outputId": "5f7ee216-30af-4c0a-8dd8-c985dbca3f66"
      },
      "execution_count": 8,
      "outputs": [
        {
          "output_type": "stream",
          "name": "stdout",
          "text": [
            "15\n"
          ]
        }
      ]
    },
    {
      "cell_type": "markdown",
      "source": [
        "Here **num1** and **num2** are parameters that hold the passed arguments.\n",
        "\n",
        "Arguments can be of any data type. We can also pass variable references."
      ],
      "metadata": {
        "id": "dYzVCgHALIxy"
      }
    },
    {
      "cell_type": "markdown",
      "source": [
        "**6.3 Return Values**\n",
        "Functions can return values using the return keyword.\n",
        "\n",
        "**For example:**"
      ],
      "metadata": {
        "id": "QfPMBfg8LMrr"
      }
    },
    {
      "cell_type": "code",
      "source": [
        "def cube(x):\n",
        "  return x * x * x\n",
        "\n",
        "result = cube(3)\n",
        "print(result) # 27"
      ],
      "metadata": {
        "colab": {
          "base_uri": "https://localhost:8080/"
        },
        "id": "vKaVvItnLQKa",
        "outputId": "e4636ad3-0aab-4fd2-934b-aac413eb53e2"
      },
      "execution_count": 9,
      "outputs": [
        {
          "output_type": "stream",
          "name": "stdout",
          "text": [
            "27\n"
          ]
        }
      ]
    },
    {
      "cell_type": "markdown",
      "source": [
        "If no **return** statement is specified, Python returns **None** automatically.\n",
        "\n",
        "We can **return** any datatype like strings, tuples etc."
      ],
      "metadata": {
        "id": "_1_wavsvLTPM"
      }
    },
    {
      "cell_type": "markdown",
      "source": [
        "**6.4 Scope**\n",
        "Variables defined inside a function are limited to the function scope. They cannot be referenced outside.\n",
        "\n",
        "**For example:**"
      ],
      "metadata": {
        "id": "dnbGJipbLcF8"
      }
    },
    {
      "cell_type": "code",
      "source": [
        "def foo():\n",
        "  x = 5\n",
        "\n",
        "foo()\n",
        "print(x) # Error, x not defined"
      ],
      "metadata": {
        "colab": {
          "base_uri": "https://localhost:8080/",
          "height": 210
        },
        "id": "Ezy0V58JLfUv",
        "outputId": "7c638191-0fd6-445b-ba0b-3788133096c3"
      },
      "execution_count": 10,
      "outputs": [
        {
          "output_type": "error",
          "ename": "NameError",
          "evalue": "ignored",
          "traceback": [
            "\u001b[0;31m---------------------------------------------------------------------------\u001b[0m",
            "\u001b[0;31mNameError\u001b[0m                                 Traceback (most recent call last)",
            "\u001b[0;32m<ipython-input-10-0ae10b87e79f>\u001b[0m in \u001b[0;36m<cell line: 5>\u001b[0;34m()\u001b[0m\n\u001b[1;32m      3\u001b[0m \u001b[0;34m\u001b[0m\u001b[0m\n\u001b[1;32m      4\u001b[0m \u001b[0mfoo\u001b[0m\u001b[0;34m(\u001b[0m\u001b[0;34m)\u001b[0m\u001b[0;34m\u001b[0m\u001b[0;34m\u001b[0m\u001b[0m\n\u001b[0;32m----> 5\u001b[0;31m \u001b[0mprint\u001b[0m\u001b[0;34m(\u001b[0m\u001b[0mx\u001b[0m\u001b[0;34m)\u001b[0m \u001b[0;31m# Error, x not defined\u001b[0m\u001b[0;34m\u001b[0m\u001b[0;34m\u001b[0m\u001b[0m\n\u001b[0m",
            "\u001b[0;31mNameError\u001b[0m: name 'x' is not defined"
          ]
        }
      ]
    },
    {
      "cell_type": "markdown",
      "source": [
        "Here x is limited to foo's scope.\n",
        "\n",
        "However, a function can access variables defined in the global scope."
      ],
      "metadata": {
        "id": "3ny334dTLk6L"
      }
    },
    {
      "cell_type": "markdown",
      "source": [
        "**Example:**"
      ],
      "metadata": {
        "id": "2O-rc2aHLoHb"
      }
    },
    {
      "cell_type": "code",
      "source": [
        "x = 10\n",
        "\n",
        "def foo():\n",
        "  print(x) # x is accessible\n",
        "\n",
        "foo()"
      ],
      "metadata": {
        "colab": {
          "base_uri": "https://localhost:8080/"
        },
        "id": "vWOBeJ31LqaO",
        "outputId": "92060204-50ba-4565-b277-9564942abfc4"
      },
      "execution_count": 11,
      "outputs": [
        {
          "output_type": "stream",
          "name": "stdout",
          "text": [
            "10\n"
          ]
        }
      ]
    },
    {
      "cell_type": "markdown",
      "source": [
        "Parameters and variables defined inside a function have local scope, while variables declared outside have global scope."
      ],
      "metadata": {
        "id": "cvqYGj94Lx5v"
      }
    },
    {
      "cell_type": "markdown",
      "source": [
        "**Question 1**\n",
        "\n",
        "Write a function to calculate the compound interest based on given values."
      ],
      "metadata": {
        "id": "biMqRHz7Myjf"
      }
    },
    {
      "cell_type": "code",
      "source": [
        "def calculate_compound_interest(principle, rate, time):\n",
        "  Amount = principle * (pow((1 + rate / 100), time))\n",
        "  CI = Amount - principle\n",
        "  print(\"Compound interest is\", CI)\n",
        "\n",
        "calculate_compound_interest(10000, 10.25, 5)"
      ],
      "metadata": {
        "colab": {
          "base_uri": "https://localhost:8080/"
        },
        "id": "YpqxAHOgM2PK",
        "outputId": "1f84f67c-ef00-4751-b5a9-3dd38d8a95ee"
      },
      "execution_count": 12,
      "outputs": [
        {
          "output_type": "stream",
          "name": "stdout",
          "text": [
            "Compound interest is 6288.946267774416\n"
          ]
        }
      ]
    },
    {
      "cell_type": "markdown",
      "source": [
        "**Question 2**\n",
        "\n",
        "Write a function to check if a number is perfect square or not"
      ],
      "metadata": {
        "id": "YD1y2JShM1kr"
      }
    },
    {
      "cell_type": "code",
      "source": [
        "import math\n",
        "\n",
        "def is_perfect_square(num):\n",
        "  root = math.sqrt(num)\n",
        "  if int(root + 0.5) ** 2 == num:\n",
        "    return True\n",
        "  else:\n",
        "    return False\n",
        "\n",
        "print(is_perfect_square(16))\n",
        "print(is_perfect_square(15))"
      ],
      "metadata": {
        "colab": {
          "base_uri": "https://localhost:8080/"
        },
        "id": "mrY_zbsjM8iG",
        "outputId": "e65a8aae-bbe0-49ad-8867-cc579c289222"
      },
      "execution_count": 13,
      "outputs": [
        {
          "output_type": "stream",
          "name": "stdout",
          "text": [
            "True\n",
            "False\n"
          ]
        }
      ]
    },
    {
      "cell_type": "markdown",
      "source": [
        "**Question 3**\n",
        "\n",
        "Write a function to check if a given number is prime or not."
      ],
      "metadata": {
        "id": "JdaveEORNBom"
      }
    },
    {
      "cell_type": "code",
      "source": [
        "def is_prime(num):\n",
        "  if num <= 1:\n",
        "    return False\n",
        "  for i in range(2, int(num/2)+1):\n",
        "    if num % i == 0:\n",
        "      return False\n",
        "  return True\n",
        "\n",
        "print(is_prime(11))\n",
        "print(is_prime(15))"
      ],
      "metadata": {
        "colab": {
          "base_uri": "https://localhost:8080/"
        },
        "id": "bCyEGrkjNIp8",
        "outputId": "72950dc2-c358-41d8-e55b-bf8c3fa74657"
      },
      "execution_count": 14,
      "outputs": [
        {
          "output_type": "stream",
          "name": "stdout",
          "text": [
            "True\n",
            "False\n"
          ]
        }
      ]
    },
    {
      "cell_type": "markdown",
      "source": [
        "**Question 4**\n",
        "\n",
        "Write a function to find the factorial of a given number using recursion."
      ],
      "metadata": {
        "id": "gJqMvZJjNMCc"
      }
    },
    {
      "cell_type": "code",
      "source": [
        "def factorial(n):\n",
        "  if n == 0:\n",
        "    return 1\n",
        "  else:\n",
        "    return n * factorial(n-1)\n",
        "\n",
        "num = 5\n",
        "print(\"Factorial:\", factorial(num))"
      ],
      "metadata": {
        "colab": {
          "base_uri": "https://localhost:8080/"
        },
        "id": "I9ZM2MYPNPB2",
        "outputId": "11e1dfed-27bf-44b7-c320-68c66e21d4f7"
      },
      "execution_count": 15,
      "outputs": [
        {
          "output_type": "stream",
          "name": "stdout",
          "text": [
            "Factorial: 120\n"
          ]
        }
      ]
    },
    {
      "cell_type": "markdown",
      "source": [
        "**Question 5**\n",
        "\n",
        "Write a function to reverse a given string."
      ],
      "metadata": {
        "id": "pPUfOywcNSBc"
      }
    },
    {
      "cell_type": "code",
      "source": [
        "def reverse_string(str):\n",
        "  return str[::-1]\n",
        "\n",
        "string = \"Python\"\n",
        "print(\"Reversed:\", reverse_string(string))"
      ],
      "metadata": {
        "colab": {
          "base_uri": "https://localhost:8080/"
        },
        "id": "xczsCO08NUIf",
        "outputId": "8c3dd650-3642-4e79-dd89-6ae57180a2e6"
      },
      "execution_count": 16,
      "outputs": [
        {
          "output_type": "stream",
          "name": "stdout",
          "text": [
            "Reversed: nohtyP\n"
          ]
        }
      ]
    },
    {
      "cell_type": "markdown",
      "source": [
        "- Write a function to print \"Hello World!\". Call the function.\n",
        "- Write a function that takes name as input and prints \"Hello\" + name.\n",
        "- Write a function to find whether a number is even or odd.\n",
        "- Write a function that takes two numbers as inputs and returns their sum.\n",
        "- Write a function to find the greatest of three given numbers.\n",
        "- Write a function to check if a given number is prime or not.\n",
        "- Write a function that returns the factorial of a given number.\n",
        "- Write a function that counts the number of vowels in a given string.\n",
        "- Write a function to convert Celsius temperature to Fahrenheit.\n",
        "- Write a function to check if a string is palindrome or not.\n",
        "- Write a function to find the greatest common divisor (gcd) of two numbers.\n",
        "- Write a function to check if a given number is Armstrong number or not.\n",
        "- Write a function that prints the Fibonacci series till n terms.\n",
        "- Write a function that returns the nth Fibonacci number.\n",
        "- Write a function to check if a number is perfect square or not.\n",
        "- Write a function to find the maximum and minimum of a given list of numbers.\n",
        "- Write a function to reverse a given string.\n",
        "- Write a function that returns the number of vowels in a given string.\n",
        "- Write a function to convert kilometres to miles.\n",
        "- Write a function to convert Celsius to Fahrenheit.\n",
        "- Write a function to find the area of a circle given radius.\n",
        "- Write a function to display student's grade based on marks.\n",
        "- Write a function that prints multiplication table of a given number.\n",
        "- Write a function that returns true if a given number is prime, else returns false.\n",
        "- Write a function to calculate the compound interest based on given values.\n",
        "- Write a function to find the largest of three given numbers without using conditional statements.\n",
        "- Write a function that accepts a string and returns the number of words in that string.\n",
        "- Write a function to find the factorial of a given number using recursion.\n",
        "- Write a function that returns the sum of n natural numbers using recursion.\n",
        "- Write a function to convert binary number to decimal."
      ],
      "metadata": {
        "id": "oZtXypOnLx1O"
      }
    }
  ]
}