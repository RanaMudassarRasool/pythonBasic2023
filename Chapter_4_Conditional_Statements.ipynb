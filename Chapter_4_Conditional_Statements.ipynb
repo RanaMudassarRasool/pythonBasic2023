{
  "nbformat": 4,
  "nbformat_minor": 0,
  "metadata": {
    "colab": {
      "provenance": [],
      "authorship_tag": "ABX9TyNX762NaR82vLxGvJK0+n3y",
      "include_colab_link": true
    },
    "kernelspec": {
      "name": "python3",
      "display_name": "Python 3"
    },
    "language_info": {
      "name": "python"
    }
  },
  "cells": [
    {
      "cell_type": "markdown",
      "metadata": {
        "id": "view-in-github",
        "colab_type": "text"
      },
      "source": [
        "<a href=\"https://colab.research.google.com/github/ranamaddy/pythonBasic2023/blob/main/Chapter_4_Conditional_Statements.ipynb\" target=\"_parent\"><img src=\"https://colab.research.google.com/assets/colab-badge.svg\" alt=\"Open In Colab\"/></a>"
      ]
    },
    {
      "cell_type": "markdown",
      "source": [
        "Conditional statements allow us to execute code only when certain conditions are met.\n",
        "\n",
        "The main conditional statements in Python are:\n",
        "\n",
        "- if\n",
        "- elif\n",
        "- else"
      ],
      "metadata": {
        "id": "rzINDS2s4a8z"
      }
    },
    {
      "cell_type": "markdown",
      "source": [
        "**4.1 if Statements**\n",
        "\n",
        "The **if** statement is used to check a condition and execute code if the condition is True."
      ],
      "metadata": {
        "id": "c9wPRwzq4wUQ"
      }
    },
    {
      "cell_type": "markdown",
      "source": [
        "**Basic Syntax**"
      ],
      "metadata": {
        "id": "Pt4_vksY42vE"
      }
    },
    {
      "cell_type": "code",
      "execution_count": null,
      "metadata": {
        "id": "4dN2T4_g4XA0"
      },
      "outputs": [],
      "source": [
        "if condition:\n",
        "   # code to execute if condition is True"
      ]
    },
    {
      "cell_type": "markdown",
      "source": [
        "**For example:**"
      ],
      "metadata": {
        "id": "MQImns884-ER"
      }
    },
    {
      "cell_type": "code",
      "source": [
        "age = 18\n",
        "\n",
        "if age >= 18:\n",
        "   print(\"You are eligible to vote\")"
      ],
      "metadata": {
        "colab": {
          "base_uri": "https://localhost:8080/"
        },
        "id": "P2Fo_jX75AE5",
        "outputId": "26536d22-79e3-487d-a50e-7f6b77b53c42"
      },
      "execution_count": 2,
      "outputs": [
        {
          "output_type": "stream",
          "name": "stdout",
          "text": [
            "You are eligible to vote\n"
          ]
        }
      ]
    },
    {
      "cell_type": "markdown",
      "source": [
        "Here we check **if** **age** is greater than or equal to 18. If so, we print a message.\n",
        "\n",
        "The condition after **if** must evaluate to either True or False.\n",
        "\n",
        "We can use comparison, logical and other operators to construct conditional expressions."
      ],
      "metadata": {
        "id": "wIZ7cd_x8Ftn"
      }
    },
    {
      "cell_type": "markdown",
      "source": [
        "**Example 1**"
      ],
      "metadata": {
        "id": "rSNiZB6L8PTH"
      }
    },
    {
      "cell_type": "code",
      "source": [
        "num = 15\n",
        "if num > 10:\n",
        "    print(num, \"is greater than 10\")"
      ],
      "metadata": {
        "colab": {
          "base_uri": "https://localhost:8080/"
        },
        "id": "Ot6QaagY8Ozl",
        "outputId": "a349412c-cf1f-4691-9ed4-03c75391ac96"
      },
      "execution_count": 3,
      "outputs": [
        {
          "output_type": "stream",
          "name": "stdout",
          "text": [
            "15 is greater than 10\n"
          ]
        }
      ]
    },
    {
      "cell_type": "markdown",
      "source": [
        "**Example 2**"
      ],
      "metadata": {
        "id": "Yd3kHlRW8zHd"
      }
    },
    {
      "cell_type": "code",
      "source": [
        "name = \"John\"\n",
        "if name == \"John\":\n",
        "    print(\"Name is John\")"
      ],
      "metadata": {
        "colab": {
          "base_uri": "https://localhost:8080/"
        },
        "id": "fqUI-gJW87az",
        "outputId": "4be7edca-020f-4e72-8b0e-edb70ce474e8"
      },
      "execution_count": 4,
      "outputs": [
        {
          "output_type": "stream",
          "name": "stdout",
          "text": [
            "Name is John\n"
          ]
        }
      ]
    },
    {
      "cell_type": "markdown",
      "source": [
        "**4.2 else Statements**\n",
        "\n",
        "The else statement is executed if the if condition evaluates to False.\n",
        "\n",
        "**Syntax**"
      ],
      "metadata": {
        "id": "e2RGGNFY8-y3"
      }
    },
    {
      "cell_type": "code",
      "source": [
        "if condition:\n",
        "  # code to execute if condition is True\n",
        "else:\n",
        "  # code to execute if condition is False"
      ],
      "metadata": {
        "id": "pxFISuTu9FAw"
      },
      "execution_count": null,
      "outputs": []
    },
    {
      "cell_type": "markdown",
      "source": [
        "**For example:**"
      ],
      "metadata": {
        "id": "k9PV5D8c9HgG"
      }
    },
    {
      "cell_type": "code",
      "source": [
        "num = 7\n",
        "if num % 2 == 0:\n",
        "   print(num, \"is even\")\n",
        "else:\n",
        "   print(num, \"is odd\")"
      ],
      "metadata": {
        "colab": {
          "base_uri": "https://localhost:8080/"
        },
        "id": "rNTG6gQi9L4M",
        "outputId": "ed0fe007-3dad-4433-a316-02340da58137"
      },
      "execution_count": 5,
      "outputs": [
        {
          "output_type": "stream",
          "name": "stdout",
          "text": [
            "7 is odd\n"
          ]
        }
      ]
    },
    {
      "cell_type": "markdown",
      "source": [
        "Here **num % 2 == 0** evaluates to **False**, so the else block is executed and \"**7 is odd**\" is printed.\n",
        "\n",
        "**Example 1**"
      ],
      "metadata": {
        "id": "yq4sQxmM9QjB"
      }
    },
    {
      "cell_type": "code",
      "source": [
        "age = 17\n",
        "if age >= 18:\n",
        "  print(\"Eligible to vote\")\n",
        "else:\n",
        "  print(\"Not eligible to vote\")"
      ],
      "metadata": {
        "colab": {
          "base_uri": "https://localhost:8080/"
        },
        "id": "9APu1zFV9WOz",
        "outputId": "c947abfe-c923-4499-b5d9-bcaa8282f526"
      },
      "execution_count": 6,
      "outputs": [
        {
          "output_type": "stream",
          "name": "stdout",
          "text": [
            "Not eligible to vote\n"
          ]
        }
      ]
    },
    {
      "cell_type": "markdown",
      "source": [
        "**Example 2**"
      ],
      "metadata": {
        "id": "5Ivnrulf9Y1y"
      }
    },
    {
      "cell_type": "code",
      "source": [
        "num = 15\n",
        "if num % 2 == 0:\n",
        "  print(num, \"is even\")\n",
        "else:\n",
        "  print(num, \"is odd\")"
      ],
      "metadata": {
        "colab": {
          "base_uri": "https://localhost:8080/"
        },
        "id": "NSi-bl5x9ax8",
        "outputId": "defe29b4-71af-4d73-f11e-38f6e48b9197"
      },
      "execution_count": 7,
      "outputs": [
        {
          "output_type": "stream",
          "name": "stdout",
          "text": [
            "15 is odd\n"
          ]
        }
      ]
    },
    {
      "cell_type": "markdown",
      "source": [
        "**4.3 elif Statements**\n",
        "\n",
        "The elif statement allows for multiple conditions to be checked in sequence. It stands for \"else if\"."
      ],
      "metadata": {
        "id": "PJWqR2JI9dlA"
      }
    },
    {
      "cell_type": "code",
      "source": [
        "if condition1:\n",
        "  # code\n",
        "elif condition2:\n",
        "  # code\n",
        "else:\n",
        "  # code"
      ],
      "metadata": {
        "id": "He98dbTm9mnw"
      },
      "execution_count": null,
      "outputs": []
    },
    {
      "cell_type": "markdown",
      "source": [
        "**For example:**"
      ],
      "metadata": {
        "id": "U4WFQfcF9pEG"
      }
    },
    {
      "cell_type": "code",
      "source": [
        "num = 7\n",
        "\n",
        "if num == 1:\n",
        "   print(\"One\")\n",
        "elif num == 2:\n",
        "   print(\"Two\")\n",
        "else:\n",
        "   print(\"Other\")"
      ],
      "metadata": {
        "colab": {
          "base_uri": "https://localhost:8080/"
        },
        "id": "ie-7LejK9rBI",
        "outputId": "ccfcad32-ec4b-4856-946a-1f4722211571"
      },
      "execution_count": 8,
      "outputs": [
        {
          "output_type": "stream",
          "name": "stdout",
          "text": [
            "Other\n"
          ]
        }
      ]
    },
    {
      "cell_type": "markdown",
      "source": [
        "Here **num** is checked against multiple conditions and the first **True** condition has its block executed.\n",
        "\n",
        "We can have multiple **elif** blocks to check for different values."
      ],
      "metadata": {
        "id": "48iwKhOy9ttA"
      }
    },
    {
      "cell_type": "markdown",
      "source": [
        "**Example 1**"
      ],
      "metadata": {
        "id": "ztBSa-g691gP"
      }
    },
    {
      "cell_type": "code",
      "source": [
        "grade = 'B'\n",
        "\n",
        "if grade == 'A':\n",
        "  print(\"Excellent\")\n",
        "elif grade == 'B':\n",
        "  print(\"Good\")\n",
        "elif grade == 'C':\n",
        "  print(\"Fair\")\n",
        "else:\n",
        "  print(\"Poor\")"
      ],
      "metadata": {
        "colab": {
          "base_uri": "https://localhost:8080/"
        },
        "id": "3N50y-B793th",
        "outputId": "a8a238c8-4fad-4f3a-c3cf-a163dc2629a6"
      },
      "execution_count": 9,
      "outputs": [
        {
          "output_type": "stream",
          "name": "stdout",
          "text": [
            "Good\n"
          ]
        }
      ]
    },
    {
      "cell_type": "markdown",
      "source": [
        "**Example 2**"
      ],
      "metadata": {
        "id": "qA2u59Er96VN"
      }
    },
    {
      "cell_type": "code",
      "source": [
        "num = 4\n",
        "\n",
        "if num == 1:\n",
        "  print(\"One\")\n",
        "elif num == 2:\n",
        "  print(\"Two\")\n",
        "elif num == 3:\n",
        "  print(\"Three\")\n",
        "else:\n",
        "  print(\"Other\")"
      ],
      "metadata": {
        "colab": {
          "base_uri": "https://localhost:8080/"
        },
        "id": "tY3aG8e698q7",
        "outputId": "75a9a3ac-3e82-40d3-e24b-d7b9ba968b9a"
      },
      "execution_count": 10,
      "outputs": [
        {
          "output_type": "stream",
          "name": "stdout",
          "text": [
            "Other\n"
          ]
        }
      ]
    },
    {
      "cell_type": "markdown",
      "source": [
        "**4.4 Nested if statements**\n",
        "\n",
        "We can have **if** statements inside **if** statements, known as **nested** **if** statements.\n",
        "\n",
        "**Syntax**"
      ],
      "metadata": {
        "id": "6NgOk5Bh9_vt"
      }
    },
    {
      "cell_type": "code",
      "source": [
        "if condition1:\n",
        "  # Code\n",
        "  if condition2:\n",
        "    # Codex"
      ],
      "metadata": {
        "id": "VbkR_QUu-LHj"
      },
      "execution_count": null,
      "outputs": []
    },
    {
      "cell_type": "markdown",
      "source": [
        "**For example:**"
      ],
      "metadata": {
        "id": "FY5L6fg_-Pbj"
      }
    },
    {
      "cell_type": "code",
      "source": [
        "num = 7\n",
        "\n",
        "if num >= 0:\n",
        "   if num == 0:\n",
        "       print(\"Zero\")\n",
        "   else:\n",
        "       print(\"Positive number\")\n",
        "else:\n",
        "   print(\"Negative number\")"
      ],
      "metadata": {
        "colab": {
          "base_uri": "https://localhost:8080/"
        },
        "id": "LLp-R7-_-M-A",
        "outputId": "7da04fc7-fc1c-4758-c037-29cdb97bf07d"
      },
      "execution_count": 11,
      "outputs": [
        {
          "output_type": "stream",
          "name": "stdout",
          "text": [
            "Positive number\n"
          ]
        }
      ]
    },
    {
      "cell_type": "markdown",
      "source": [
        "Here we nested an if-else inside the outer if block."
      ],
      "metadata": {
        "id": "TxrKyymw-TTP"
      }
    },
    {
      "cell_type": "markdown",
      "source": [
        "**Example 1**"
      ],
      "metadata": {
        "id": "jFhRotQC-VKh"
      }
    },
    {
      "cell_type": "code",
      "source": [
        "num = 15\n",
        "\n",
        "if num >= 0:\n",
        "  if num % 2 == 0:\n",
        "    print(num, \"is a positive even number\")\n",
        "  else:\n",
        "    print(num, \"is a positive odd number\")\n",
        "else:\n",
        "  print(num, \"is negative\")"
      ],
      "metadata": {
        "colab": {
          "base_uri": "https://localhost:8080/"
        },
        "id": "QjA8W-Gc-YOE",
        "outputId": "634f770f-7433-47c4-f04f-fede70233844"
      },
      "execution_count": 12,
      "outputs": [
        {
          "output_type": "stream",
          "name": "stdout",
          "text": [
            "15 is a positive odd number\n"
          ]
        }
      ]
    },
    {
      "cell_type": "markdown",
      "source": [
        "**4.5 Ternary Operator**\n",
        "Python provides a ternary operator for compact conditional expressions.\n",
        "\n",
        "**Syntax**"
      ],
      "metadata": {
        "id": "LpcRvGOd-Xs7"
      }
    },
    {
      "cell_type": "code",
      "source": [
        "value_if_true if condition else value_if_false"
      ],
      "metadata": {
        "id": "vi6nbF0q-hYX"
      },
      "execution_count": null,
      "outputs": []
    },
    {
      "cell_type": "markdown",
      "source": [
        "**For example:**"
      ],
      "metadata": {
        "id": "DPltIgRI-j6N"
      }
    },
    {
      "cell_type": "code",
      "source": [
        "age = 18\n",
        "can_vote = \"yes\" if age >= 18 else \"no\""
      ],
      "metadata": {
        "id": "Hh3Qn1OY-kaC"
      },
      "execution_count": 13,
      "outputs": []
    },
    {
      "cell_type": "markdown",
      "source": [
        "This assigns \"**yes**\" to can_vote if age is **18** or more, **else** it assigns \"**no**\"."
      ],
      "metadata": {
        "id": "DH-uqKSD-pPd"
      }
    },
    {
      "cell_type": "markdown",
      "source": [
        "**Example 1**"
      ],
      "metadata": {
        "id": "z07K6k4f-u0N"
      }
    },
    {
      "cell_type": "code",
      "source": [
        "num = 15\n",
        "is_even = \"yes\" if num % 2 == 0 else \"no\"\n",
        "print(is_even)"
      ],
      "metadata": {
        "colab": {
          "base_uri": "https://localhost:8080/"
        },
        "id": "1PEK8afy-xKb",
        "outputId": "2ec9ea5b-2a31-43ff-9b68-a6c86bb8e668"
      },
      "execution_count": 14,
      "outputs": [
        {
          "output_type": "stream",
          "name": "stdout",
          "text": [
            "no\n"
          ]
        }
      ]
    },
    {
      "cell_type": "markdown",
      "source": [
        "**Example 2**"
      ],
      "metadata": {
        "id": "cs3plInw-0SV"
      }
    },
    {
      "cell_type": "code",
      "source": [
        "name = \"John\"\n",
        "access = \"Allowed\" if name in [\"John\", \"Mary\"] else \"Denied\"\n",
        "print(access)"
      ],
      "metadata": {
        "colab": {
          "base_uri": "https://localhost:8080/"
        },
        "id": "z8RJ5Agf-2TO",
        "outputId": "278c9ce6-a659-492b-a083-a574ec79cac3"
      },
      "execution_count": 15,
      "outputs": [
        {
          "output_type": "stream",
          "name": "stdout",
          "text": [
            "Allowed\n"
          ]
        }
      ]
    },
    {
      "cell_type": "markdown",
      "source": [
        "**Questions**\n",
        "\n",
        "- Write an if statement that prints \"Hello World\" if x is equal to 10.\n",
        "- Write an if-else statement that prints \"x is positive\" if x is greater than 0 and \"x is negative\" otherwise.\n",
        "- Write code that prints \"Even Number\" if the number stored in num is even, and \"Odd Number\" otherwise.\n",
        "- Write an if statement to check if age is greater than or equal to 18. If so, print \"Eligible to Vote\".\n",
        "- What keywords are used for the main conditional statements in Python?\n",
        "- How do you write a conditional statement in Python to check if a variable x is equal to 10?\n",
        "- What syntax is used for an else statement?\n",
        "- How do you check for multiple conditions using elif?\n",
        "- What is the syntax for nesting if statements?\n",
        "- What is the syntax for a ternary operator that assigns \"Passed\" to status if grade is greater than 70, else assigns \"Failed\"?"
      ],
      "metadata": {
        "id": "mWxf370x_R0j"
      }
    },
    {
      "cell_type": "markdown",
      "source": [
        "- Take two integer inputs from user and print the larger number.\n",
        "- Take a number as input and check if the number is positive, negative or zero. Print the result.\n",
        "- Take the age as input and check if age is greater than 18 and less than 60. Print the result.\n",
        "- Write a program to take the length of sides of a triangle as input and check if the triangle is equilateral, isosceles or scalene. Print the result.\n",
        "- Take a number as input and check if the number is even or odd using a ternary operator. Print the result.\n",
        "- Take the age as input and check if the person is eligible to vote. Print \"Eligible\" if age >= 18 else \"Not Eligible\".\n",
        "- Write a program to take cost price and selling price as input and determine profit or loss.\n",
        "- Take a number as input and print the multiplication table for that number.\n",
        "- Take the marks of three subjects as input and check if the total percentage is greater than or equal to 40. If so, print \"Pass\". If not, print \"Fail\".\n",
        "- Write a program to take a number as input and print the corresponding month name.\n",
        "- Write a program to check if a given number is Armstrong number or not.\n",
        "- Write a program to check if a given number is Prime number or not.\n",
        "- Write a program to take marks as input and print the corresponding grade according to the marks.\n",
        "- Write a program to take the basic salary as input and calculate gross salary after adding HRA, TA and DA. Print the gross salary.\n",
        "- Take two numbers and an operator as input and perform the operation on the two numbers based on the operator entered. Print the result."
      ],
      "metadata": {
        "id": "XPZz7cOs_cBw"
      }
    },
    {
      "cell_type": "markdown",
      "source": [
        "- Write a program to take a number as input and print the corresponding month name. Handle invalid numbers gracefully without raising an error.\n",
        "- Write a program to take the marks of three subjects as input. Calculate the total percentage and division (First/Second/Third). Handle all edge cases like invalid marks or totals > 100.\n",
        "- Write a program to take the basic salary and calculate gross salary. The HRA is 12% of basic, DA is 15% and TA is 8%. Calculate gross salary and print. Handle invalid inputs.\n",
        "- Take length and breadth input from user and check if the dimensions are valid. Calculate area and perimeter if valid. Print error messages for invalid dimensions.\n",
        "- Write a program to take cost price and selling price as input. Calculate profit or loss percentage. Print proper messages for all cases.\n",
        "- Take 3 angles of a triangle as input. Check if the angles make a valid triangle. If valid, check if the triangle is right angled, acute or obtuse. Print appropriate messages.\n",
        "- Take a number as input. If the number is prime, print its factors. If not, print proper error messages.\n",
        "- Take a string as input and check if it is a valid email address. Print appropriate messages.\n",
        "- Take 3 sides a, b, c of a triangle. Check if the sides form a valid triangle. If valid, check if it is equilateral, isosceles or scalene. Print appropriate result.\n",
        "- Take age, income and marital status as input. If age < 25 and income > 50000, print \"Target Customer\". Handle all invalid cases and print proper messages."
      ],
      "metadata": {
        "id": "FKDmfptyAAcX"
      }
    },
    {
      "cell_type": "markdown",
      "source": [
        "# Rana Mudassar Rasool"
      ],
      "metadata": {
        "id": "SPfr7nSFATaY"
      }
    },
    {
      "cell_type": "code",
      "source": [],
      "metadata": {
        "id": "UDAosw5DAPA8"
      },
      "execution_count": 15,
      "outputs": []
    }
  ]
}