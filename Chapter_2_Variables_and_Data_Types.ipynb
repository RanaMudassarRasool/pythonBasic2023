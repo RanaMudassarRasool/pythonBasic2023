{
  "nbformat": 4,
  "nbformat_minor": 0,
  "metadata": {
    "colab": {
      "provenance": [],
      "authorship_tag": "ABX9TyPD/vFjyREudwN7fk4dSsRf",
      "include_colab_link": true
    },
    "kernelspec": {
      "name": "python3",
      "display_name": "Python 3"
    },
    "language_info": {
      "name": "python"
    }
  },
  "cells": [
    {
      "cell_type": "markdown",
      "metadata": {
        "id": "view-in-github",
        "colab_type": "text"
      },
      "source": [
        "<a href=\"https://colab.research.google.com/github/ranamaddy/pythonBasic2023/blob/main/Chapter_2_Variables_and_Data_Types.ipynb\" target=\"_parent\"><img src=\"https://colab.research.google.com/assets/colab-badge.svg\" alt=\"Open In Colab\"/></a>"
      ]
    },
    {
      "cell_type": "markdown",
      "source": [
        "# Chapter 2 - Variables and Data Types"
      ],
      "metadata": {
        "id": "rQQHbVeFz-Kw"
      }
    },
    {
      "cell_type": "markdown",
      "source": [
        "Variables are used to store data in a Python program. They work as containers for values used in a program.\n",
        "\n",
        "Python is a dynamically typed language, meaning variables do not need to be declared with a specific type and can be assigned values of any type.\n",
        "\n",
        "Let's explore variables and data types in Python in detail:"
      ],
      "metadata": {
        "id": "MXUVXUjX0Ebu"
      }
    },
    {
      "cell_type": "markdown",
      "source": [
        "**2.1 Variables**\n",
        "\n",
        "A variable simply refers to a name that is used to reference a value. For example:"
      ],
      "metadata": {
        "id": "AsKgK-Zf0HI8"
      }
    },
    {
      "cell_type": "code",
      "execution_count": 2,
      "metadata": {
        "colab": {
          "base_uri": "https://localhost:8080/"
        },
        "id": "qtFzET-szlKa",
        "outputId": "e0f08f2c-8517-4052-f7fa-5c6dd5f6c8ad"
      },
      "outputs": [
        {
          "output_type": "stream",
          "name": "stdout",
          "text": [
            "Rana Mudassar rasool\n"
          ]
        }
      ],
      "source": [
        "# Assign a value to a variable\n",
        "name = \"Rana Mudassar rasool\"\n",
        "\n",
        "print(name)"
      ]
    },
    {
      "cell_type": "markdown",
      "source": [
        "Here we created a variable called name and assigned it a string **\"Rana Mudassar Rasool\"**.\n",
        "\n",
        "To assign a value to a variable, use a single = sign. No need to declare the type."
      ],
      "metadata": {
        "id": "IMRFHtjQ0UTH"
      }
    },
    {
      "cell_type": "markdown",
      "source": [
        "**Some key points on variables:**\n",
        "\n",
        "- Assignment uses a single = sign\n",
        "- Can assign different data types to same variable\n",
        "- Variables hold a reference to the object (memory location)\n",
        "- Variables must be assigned before use\n",
        "- Variable names should be descriptive (lowercase_with_underscores)"
      ],
      "metadata": {
        "id": "crgK9s580kEU"
      }
    },
    {
      "cell_type": "markdown",
      "source": [
        "We can reassign variables with a different values later in code:"
      ],
      "metadata": {
        "id": "_DOSTAX40p-j"
      }
    },
    {
      "cell_type": "code",
      "source": [
        "name = \"John\"\n",
        "print(name)\n",
        "\n",
        "name = \"Sarah\"\n",
        "print(name)"
      ],
      "metadata": {
        "colab": {
          "base_uri": "https://localhost:8080/"
        },
        "id": "3Eur5nbu0i_n",
        "outputId": "98f8754d-d2e3-4655-beaf-730a0f8d105c"
      },
      "execution_count": 3,
      "outputs": [
        {
          "output_type": "stream",
          "name": "stdout",
          "text": [
            "John\n",
            "Sarah\n"
          ]
        }
      ]
    },
    {
      "cell_type": "markdown",
      "source": [
        "Here we reassign name to a new value."
      ],
      "metadata": {
        "id": "e00KjD_s0vCe"
      }
    },
    {
      "cell_type": "markdown",
      "source": [
        "**2.2 Data Types**\n",
        "Every value in Python has a data type. The common data types include:\n",
        "\n",
        "- Integers: Whole numbers like 10. Used for numeric operations.\n",
        "- Floats: Decimal numbers like 5.67. Used for precise values.\n",
        "- Strings: Text values like \"Hello\". Used for storing text.\n",
        "- Booleans: Logical values True or False. Used for logical operations.\n",
        "- Lists: Ordered collection of objects in **[square brackets]**. Used to store related items.\n",
        "- Tuples: Immutable ordered collection of objects in (parentheses). Used for read-only collections.\n",
        "- Dictionaries: Unordered key-value pairs in **{curly braces}**. Used to map two related values."
      ],
      "metadata": {
        "id": "x7g9b6GJ0wRy"
      }
    },
    {
      "cell_type": "markdown",
      "source": [
        "Let's look at some examples of different data types:"
      ],
      "metadata": {
        "id": "RLq_aPfh1HFl"
      }
    },
    {
      "cell_type": "code",
      "source": [
        "# Integer\n",
        "num = 10\n",
        "\n",
        "# Float\n",
        "price = 9.99\n",
        "\n",
        "# String\n",
        "name = \"John\"\n",
        "\n",
        "# Boolean\n",
        "is_published = False\n",
        "\n",
        "# List\n",
        "nums = [1, 2, 3]\n",
        "\n",
        "# Tuple\n",
        "address = (\"123 Main St\", \"Boston\", \"MA\")\n",
        "\n",
        "# Dictionary\n",
        "person = {\"name\":\"John\", \"age\":25}"
      ],
      "metadata": {
        "id": "FMi_TVB51IdZ"
      },
      "execution_count": 4,
      "outputs": []
    },
    {
      "cell_type": "markdown",
      "source": [
        "**We can use the type() function to check the data type of a value:**"
      ],
      "metadata": {
        "id": "guS-rlKk1MMa"
      }
    },
    {
      "cell_type": "code",
      "source": [
        "num = 10\n",
        "print(type(num)) # <class 'int'>\n",
        "\n",
        "name = \"John\"\n",
        "print(type(name)) # <class 'str'>"
      ],
      "metadata": {
        "colab": {
          "base_uri": "https://localhost:8080/"
        },
        "id": "hkxg3tc11Ojv",
        "outputId": "7589bf7e-fcd7-4441-e130-9a3e4bf30aa3"
      },
      "execution_count": 5,
      "outputs": [
        {
          "output_type": "stream",
          "name": "stdout",
          "text": [
            "<class 'int'>\n",
            "<class 'str'>\n"
          ]
        }
      ]
    },
    {
      "cell_type": "markdown",
      "source": [
        "Python is a dynamically typed language so we do not need to explicitly declare variables before use. The data type is set automatically when a value is assigned."
      ],
      "metadata": {
        "id": "R08pcRoP1RQt"
      }
    },
    {
      "cell_type": "markdown",
      "source": [
        "**2.3 Type Conversion**\n",
        "\n",
        "We can convert between different data types by using type conversion functions:"
      ],
      "metadata": {
        "id": "rJoYPeVS1Uu_"
      }
    },
    {
      "cell_type": "code",
      "source": [
        "num = 10    # Integer\n",
        "\n",
        "float_num = float(num) # Convert to float\n",
        "\n",
        "print(float_num)\n",
        "print(type(float_num)) # <class 'float'>"
      ],
      "metadata": {
        "colab": {
          "base_uri": "https://localhost:8080/"
        },
        "id": "QPkXLdEq1XG4",
        "outputId": "b2f727b5-c4a0-4ec4-b83a-5ecc5ea6adb7"
      },
      "execution_count": 6,
      "outputs": [
        {
          "output_type": "stream",
          "name": "stdout",
          "text": [
            "10.0\n",
            "<class 'float'>\n"
          ]
        }
      ]
    },
    {
      "cell_type": "markdown",
      "source": [
        "**Some common type conversions**:\n",
        "\n",
        "- int(): Convert to integer type\n",
        "- float(): Convert to float type\n",
        "- str(): Convert to string type\n",
        "- list(): Convert to list type\n",
        "- tuple(): Convert to tuple type\n",
        "- dict(): Convert to dictionary"
      ],
      "metadata": {
        "id": "ep2C0MRe1mAz"
      }
    },
    {
      "cell_type": "markdown",
      "source": [
        "**We can also convert data types to other types:**\n",
        "\n"
      ],
      "metadata": {
        "id": "TjLWYz5G1x0V"
      }
    },
    {
      "cell_type": "code",
      "source": [
        "price = 9.99\n",
        "\n",
        "int_price = int(price) # Truncate decimal\n",
        "\n",
        "print(int_price) # 9"
      ],
      "metadata": {
        "colab": {
          "base_uri": "https://localhost:8080/"
        },
        "id": "jtv0peX610Gk",
        "outputId": "ee478a44-2a4f-416c-ef4d-9d00438e7de3"
      },
      "execution_count": 7,
      "outputs": [
        {
          "output_type": "stream",
          "name": "stdout",
          "text": [
            "9\n"
          ]
        }
      ]
    },
    {
      "cell_type": "markdown",
      "source": [
        "**Converting numeric types to strings:**"
      ],
      "metadata": {
        "id": "hGibYXqS19c_"
      }
    },
    {
      "cell_type": "code",
      "source": [
        "num = 10\n",
        "str_num = str(num)\n",
        "\n",
        "print(str_num) # \"10\""
      ],
      "metadata": {
        "colab": {
          "base_uri": "https://localhost:8080/"
        },
        "id": "jDf4nPOJ1_p9",
        "outputId": "382ee692-7e8b-40da-9634-d28d775c6184"
      },
      "execution_count": 8,
      "outputs": [
        {
          "output_type": "stream",
          "name": "stdout",
          "text": [
            "10\n"
          ]
        }
      ]
    },
    {
      "cell_type": "markdown",
      "source": [
        "Type conversion is useful when we need to treat data as a different type such as converting a string to a number for math operations."
      ],
      "metadata": {
        "id": "g4tMLt7P2IJd"
      }
    }
  ]
}