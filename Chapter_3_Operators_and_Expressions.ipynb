{
  "nbformat": 4,
  "nbformat_minor": 0,
  "metadata": {
    "colab": {
      "provenance": [],
      "authorship_tag": "ABX9TyOqbTHguUWRiN56Kt1T3r9z",
      "include_colab_link": true
    },
    "kernelspec": {
      "name": "python3",
      "display_name": "Python 3"
    },
    "language_info": {
      "name": "python"
    }
  },
  "cells": [
    {
      "cell_type": "markdown",
      "metadata": {
        "id": "view-in-github",
        "colab_type": "text"
      },
      "source": [
        "<a href=\"https://colab.research.google.com/github/ranamaddy/pythonBasic2023/blob/main/Chapter_3_Operators_and_Expressions.ipynb\" target=\"_parent\"><img src=\"https://colab.research.google.com/assets/colab-badge.svg\" alt=\"Open In Colab\"/></a>"
      ]
    },
    {
      "cell_type": "markdown",
      "source": [
        "Operators are symbols that perform operations on values and variables. For example, the **+** operator performs addition.\n",
        "\n",
        "Expressions are combinations of values, variables, operators and calls to functions. For example, **2 + 3** is an expression that uses the + operator to add two values.\n",
        "\n",
        "Python provides a rich set of operators that can be grouped into the following categories:\n",
        "\n"
      ],
      "metadata": {
        "id": "0a8JscCT2V72"
      }
    },
    {
      "cell_type": "markdown",
      "source": [
        "**3.1 Arithmetic Operators**\n",
        "\n",
        "Arithmetic operators are used to perform mathematical operations like addition, subtraction, multiplication and division.\n",
        "\n",
        "Some examples:"
      ],
      "metadata": {
        "id": "cbMhn8Zx2hLV"
      }
    },
    {
      "cell_type": "code",
      "execution_count": null,
      "metadata": {
        "colab": {
          "base_uri": "https://localhost:8080/"
        },
        "id": "MdR4cqT62OE9",
        "outputId": "806050cd-13cd-4fad-82c2-4bf3d0097c67"
      },
      "outputs": [
        {
          "output_type": "stream",
          "name": "stdout",
          "text": [
            "5\n",
            "3\n",
            "12\n",
            "4.0\n",
            "3\n",
            "9\n"
          ]
        }
      ],
      "source": [
        "# Addition\n",
        "print(2 + 3) # Output: 5\n",
        "\n",
        "# Subtraction\n",
        "print(5 - 2) # Output: 3\n",
        "\n",
        "# Multiplication\n",
        "print(3 * 4) # Output: 12\n",
        "\n",
        "# Division\n",
        "print(16 / 4) # Output: 4.0\n",
        "\n",
        "# Modulus (remainder after division)\n",
        "print(15 % 4) # Output: 3\n",
        "\n",
        "# Exponent\n",
        "print(3 ** 2) # Output: 9 (3 squared)"
      ]
    },
    {
      "cell_type": "markdown",
      "source": [
        "We can use arithmetic operators on different numeric types like integers, floats, complex numbers etc."
      ],
      "metadata": {
        "id": "uL8Vklzz2qM_"
      }
    },
    {
      "cell_type": "markdown",
      "source": [
        "**3.2 Comparison Operators**\n",
        "Comparison operators are used to compare two values and evaluate down to a single Boolean value of either True or False.\n",
        "\n",
        "**Some examples:**"
      ],
      "metadata": {
        "id": "Z2EhiKD222CO"
      }
    },
    {
      "cell_type": "code",
      "source": [
        "# Equal to\n",
        "print(2 == 2) # True\n",
        "\n",
        "# Not equal to\n",
        "print(2 != 3) # True\n",
        "\n",
        "# Greater than\n",
        "print(3 > 2) # True\n",
        "\n",
        "# Less than\n",
        "print(2 < 4) # True\n",
        "\n",
        "# Greater than or equal to\n",
        "print(3 >= 2) # True\n",
        "\n",
        "# Less than or equal to\n",
        "print(2 <= 3) # True"
      ],
      "metadata": {
        "colab": {
          "base_uri": "https://localhost:8080/"
        },
        "id": "o_-FiBjD25AK",
        "outputId": "c3e76dec-6d8e-4613-9fbb-244aff1a2c4f"
      },
      "execution_count": null,
      "outputs": [
        {
          "output_type": "stream",
          "name": "stdout",
          "text": [
            "True\n",
            "True\n",
            "True\n",
            "True\n",
            "True\n",
            "True\n"
          ]
        }
      ]
    },
    {
      "cell_type": "markdown",
      "source": [
        "These operators can be used to compare numbers, strings, lists and other types."
      ],
      "metadata": {
        "id": "LkSy3N-S28wh"
      }
    },
    {
      "cell_type": "markdown",
      "source": [
        "**3.3 Logical Operators**\n",
        "Logical operators take Boolean values and apply logical operations like AND, OR, NOT.\n",
        "\n",
        "**Some examples:**"
      ],
      "metadata": {
        "id": "EMi2NT0v2-wE"
      }
    },
    {
      "cell_type": "code",
      "source": [
        "# AND\n",
        "print(True and False) # False\n",
        "\n",
        "# OR\n",
        "print(True or False) # True\n",
        "\n",
        "# NOT\n",
        "print(not True) # False\n"
      ],
      "metadata": {
        "colab": {
          "base_uri": "https://localhost:8080/"
        },
        "id": "ugRpGxnR3CXW",
        "outputId": "c0249e28-41a1-4309-dace-4a4c62c73ce2"
      },
      "execution_count": null,
      "outputs": [
        {
          "output_type": "stream",
          "name": "stdout",
          "text": [
            "False\n",
            "True\n",
            "False\n"
          ]
        }
      ]
    },
    {
      "cell_type": "markdown",
      "source": [
        "We can combine logic operators with comparison operators:"
      ],
      "metadata": {
        "id": "jS_mYap_3F33"
      }
    },
    {
      "cell_type": "code",
      "source": [
        "age = 18\n",
        "print(age > 16 and age < 25) # True"
      ],
      "metadata": {
        "colab": {
          "base_uri": "https://localhost:8080/"
        },
        "id": "l8gZrJOF3DWn",
        "outputId": "94c9b652-e58f-4b2f-a905-09f4bb31db21"
      },
      "execution_count": null,
      "outputs": [
        {
          "output_type": "stream",
          "name": "stdout",
          "text": [
            "True\n"
          ]
        }
      ]
    },
    {
      "cell_type": "markdown",
      "source": [
        "**3.4 Operator Precedence**\n",
        "When using multiple operators in an expression, some operators have higher precedence **(priority)** than others.\n",
        "\n",
        "For example, multiplication has a higher precedence than addition. So 2 + 3 * 4 is equivalent to **2 + (3 * 4)** which evaluates to 14.\n",
        "\n",
        "The order of operations is:\n",
        "\n",
        "1. Parentheses ()\n",
        "2. Exponents **\n",
        "3. Multiplication, Division, Modulus * / %\n",
        "4. Addition, Subtraction + -\n",
        "5. Comparisons == != > < >= <=\n",
        "6. Logical operators and, or, not\n",
        "\n",
        "We can use parentheses to override operator precedence if we need to change the default order.\n",
        "\n",
        "In summary, Python provides many useful operators for building expressions. Understanding the precedence of operators helps us construct expressions correctly"
      ],
      "metadata": {
        "id": "AADVFtsA3SfP"
      }
    },
    {
      "cell_type": "markdown",
      "source": [],
      "metadata": {
        "id": "QK9aEgCi4Frs"
      }
    }
  ]
}