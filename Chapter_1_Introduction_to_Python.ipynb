{
  "nbformat": 4,
  "nbformat_minor": 0,
  "metadata": {
    "colab": {
      "provenance": [],
      "authorship_tag": "ABX9TyN0HxYfd/OXTrVs/tNI52jf",
      "include_colab_link": true
    },
    "kernelspec": {
      "name": "python3",
      "display_name": "Python 3"
    },
    "language_info": {
      "name": "python"
    }
  },
  "cells": [
    {
      "cell_type": "markdown",
      "metadata": {
        "id": "view-in-github",
        "colab_type": "text"
      },
      "source": [
        "<a href=\"https://colab.research.google.com/github/ranamaddy/pythonBasic2023/blob/main/Chapter_1_Introduction_to_Python.ipynb\" target=\"_parent\"><img src=\"https://colab.research.google.com/assets/colab-badge.svg\" alt=\"Open In Colab\"/></a>"
      ]
    },
    {
      "cell_type": "markdown",
      "source": [
        "**Chapter 1 - Introduction to Python**\n",
        "\n",
        "-  Hello World program\n",
        "- Comments and code structure\n",
        "\n",
        "**Chapter 2 - Variables and Data Types**\n",
        "\n",
        "- Variables and assignment\n",
        "- Integers, floats, strings\n",
        "- Type conversion\n",
        "\n",
        "**Chapter 3 - Operators and Expressions**\n",
        "\n",
        "- Arithmetic operators\n",
        "- Comparison operators\n",
        "- Logical operators\n",
        "- Operator precedence\n",
        "\n",
        "**Chapter 4 - Conditional Statements**\n",
        "\n",
        "- if, elif, else\n",
        "- Nested conditional statements\n",
        "- Ternary operator\n",
        "\n",
        "**Chapter 5 - Loops**\n",
        "\n",
        "- for loop with range()\n",
        "- while loop\n",
        "- break and continue\n",
        "- Looping over lists\n",
        "\n",
        "**Chapter 6 - Functions**\n",
        "\n",
        "- Defining and calling functions\n",
        "- Parameters and arguments\n",
        "- Return values\n",
        "- Scope\n",
        "\n",
        "**Chapter 7 - Strings**\n",
        "\n",
        "- String methods (upper(), lower(), split() etc)\n",
        "- String formatting\n",
        "- Working with string input\n",
        "\n",
        "**Chapter 8 - Lists**\n",
        "\n",
        "- Creating lists\n",
        "- List methods (append(), insert(), remove() etc)\n",
        "- Iterating over lists\n",
        "- List slicing\n",
        "\n",
        "**Chapter 9 - Dictionaries**\n",
        "\n",
        "- Creating dictionaries\n",
        "- Working with dictionary keys and values\n",
        "- Iterating over dictionaries\n",
        "\n",
        "**Chapter 10 - Modules and Packages**\n",
        "\n",
        "- Importing modules\n",
        "- Creating custom modules\n",
        "- Packages"
      ],
      "metadata": {
        "id": "vBlYauTeyYi2"
      }
    },
    {
      "cell_type": "markdown",
      "source": [
        "# Chapter 1 - Introduction to Python\n",
        "Python is a popular, interpreted, high-level programming language used for general-purpose programming. Python provides features such as dynamic typing, automatic memory management and access to a wide variety of libraries and frameworks. Some key advantages of Python:\n",
        "1. Easy to read and learn\n",
        "2. Simple and expressive syntax\n",
        "3. Interpreted - no compilation needed\n",
        "4. Cross-platform - works on Windows, Mac, Linux etc.\n",
        "5. Open source and large community\n",
        "\n",
        "Python is a high-level, general purpose programming language that can be used for a wide range of applications. Some key features of Python:\n",
        "\n",
        "1. Interpreted language (no need to compile code)\n",
        "2. Dynamically typed (no need to declare variable types)\n",
        "3. Automatic memory management (garbage collection)\n",
        "4. Simple and readable syntax\n",
        "5. Extensive libraries and frameworks\n",
        "6. Cross-platform (write once, run anywhere)\n",
        "\n",
        "Python is easy to learn and has a very gentle learning curve. Within a day or two you can start building real programs and applications."
      ],
      "metadata": {
        "id": "KOnI-ei9uLJp"
      }
    },
    {
      "cell_type": "markdown",
      "source": [
        "**1.1 Getting Started**\n",
        "\n",
        "To start using Python, you need to have the Python interpreter installed on your computer. Python comes pre-installed on most Linux and Mac systems. For Windows, you need to download and install Python from the official website python.org.\n",
        "\n",
        "Once Python is installed, you can start the interpreter by opening a terminal/command prompt and typing **python3 (or python on some systems)**. This will start a **REPL (Read-Evaluate-Print-Loop)** where you can directly execute Python statements and expressions.\n"
      ],
      "metadata": {
        "id": "Mo1FglTwu9AT"
      }
    },
    {
      "cell_type": "markdown",
      "source": [
        "**1.2 \"Hello World\" Program**\n",
        "\n",
        "The typical first program written in any language is the Hello World program. Here is how you would write it in Python:"
      ],
      "metadata": {
        "id": "Oymzn3U2vjI-"
      }
    },
    {
      "cell_type": "code",
      "execution_count": null,
      "metadata": {
        "colab": {
          "base_uri": "https://localhost:8080/"
        },
        "id": "Ac1nzAezuAHG",
        "outputId": "04db23fb-5106-48d3-b9d7-a68089c09504"
      },
      "outputs": [
        {
          "output_type": "stream",
          "name": "stdout",
          "text": [
            "Hello World!\n"
          ]
        }
      ],
      "source": [
        "print(\"Hello World!\")"
      ]
    },
    {
      "cell_type": "markdown",
      "source": [
        "This program simply uses the **print()** function to output the text \"Hello World!\".\n",
        "\n",
        "1. **print()** is a built-in function in Python that prints to the standard output stream (screen)\n",
        "2. The text to be printed is passed as a parameter to the print function, enclosed in double quotes. This is called a string in Python.\n"
      ],
      "metadata": {
        "id": "fCBXWF-Evs7z"
      }
    },
    {
      "cell_type": "markdown",
      "source": [
        "**1.3 Comments**\n",
        "Comments are important in all programs to provide explanation and documentation.\n",
        "\n",
        "Python comments start with a # symbol. Any text after # is ignored by the Python interpreter and serves as documentation for someone reading the code.\n",
        "\n",
        "**For example:**"
      ],
      "metadata": {
        "id": "yBTQuvOwv_6W"
      }
    },
    {
      "cell_type": "code",
      "source": [
        "# This program prints out a simple greeting\n",
        "\n",
        "print(\"Hello World!\") # This line prints the text"
      ],
      "metadata": {
        "colab": {
          "base_uri": "https://localhost:8080/"
        },
        "id": "7eZFezVOwFQ2",
        "outputId": "1c9b3244-731e-4b48-e7c7-cf3512047f96"
      },
      "execution_count": null,
      "outputs": [
        {
          "output_type": "stream",
          "name": "stdout",
          "text": [
            "Hello World!\n"
          ]
        }
      ]
    },
    {
      "cell_type": "markdown",
      "source": [
        "**We can also have multiline comments using triple quotes:**"
      ],
      "metadata": {
        "id": "i41G1bItwJhJ"
      }
    },
    {
      "cell_type": "code",
      "source": [
        "\"\"\"\n",
        "This is a multiline comment.\n",
        "All these lines will be ignored by Python.\n",
        "We can add comments like this to explain our code.\n",
        "\"\"\""
      ],
      "metadata": {
        "colab": {
          "base_uri": "https://localhost:8080/",
          "height": 35
        },
        "id": "u10H7WxGwL-s",
        "outputId": "f2499297-7bd8-4e51-b527-6e79b0318c0e"
      },
      "execution_count": null,
      "outputs": [
        {
          "output_type": "execute_result",
          "data": {
            "text/plain": [
              "'\\nThis is a multiline comment.\\nAll these lines will be ignored by Python.\\nWe can add comments like this to explain our code.\\n'"
            ],
            "application/vnd.google.colaboratory.intrinsic+json": {
              "type": "string"
            }
          },
          "metadata": {},
          "execution_count": 4
        }
      ]
    },
    {
      "cell_type": "markdown",
      "source": [
        "**Comments are invaluable for understanding complex code. We should strive to comment non-trivial code.**"
      ],
      "metadata": {
        "id": "dDiwXjvUwQcz"
      }
    },
    {
      "cell_type": "markdown",
      "source": [
        "**1.4 Code Structure**\n",
        "\n",
        "Like all languages, Python has a particular style and structure for writing code. Following standard conventions makes code easier to read for yourself and others.\n",
        "\n",
        "**Some key points on Python code style:**\n",
        "\n",
        "- Use descriptive names for functions, variables, methods etc.\n",
        "- Use lowercase names separated by underscores for variables and functions. Eg: - my_function, some_var\n",
        "- Indent code blocks with 4 spaces (avoid using tabs)\n",
        "- Lines should be 79 characters long at max for readability\n",
        "- Use blank lines to separate logical sections of code\n",
        "- Follow PEP8 style guide for Python code\n",
        "\n",
        "Python uses indentation to structure code instead of braces **{}**  like other languages. Indentation level determines which block of code a statement belongs to.\n",
        "\n"
      ],
      "metadata": {
        "id": "n43a0lpswV_o"
      }
    },
    {
      "cell_type": "code",
      "source": [
        "# Good indentation\n",
        "x=6\n",
        "if x > 5:\n",
        "    print(\"x is greater than 5\")\n",
        "    print(\"This is still part of if block\")\n",
        "\n",
        "print(\"Outside if block now\")"
      ],
      "metadata": {
        "colab": {
          "base_uri": "https://localhost:8080/"
        },
        "id": "WIKAlpdmwu7J",
        "outputId": "b8d13d1e-3f00-40a0-ad2d-d888d03ed284"
      },
      "execution_count": null,
      "outputs": [
        {
          "output_type": "stream",
          "name": "stdout",
          "text": [
            "x is greater than 5\n",
            "This is still part of if block\n",
            "Outside if block now\n"
          ]
        }
      ]
    },
    {
      "cell_type": "code",
      "source": [
        "# Bad indentation\n",
        "if x > 5:\n",
        " print(\"x is greater than 5\")\n",
        "  print(\"This is incorrectly indented and will cause an error\")\n",
        "\n",
        "print(\"Outside if block now\")"
      ],
      "metadata": {
        "colab": {
          "base_uri": "https://localhost:8080/",
          "height": 140
        },
        "id": "xZ2Nd2MVw3Ce",
        "outputId": "8a2d2415-0508-4871-8b37-e19dec09e24e"
      },
      "execution_count": null,
      "outputs": [
        {
          "output_type": "error",
          "ename": "IndentationError",
          "evalue": "ignored",
          "traceback": [
            "\u001b[0;36m  File \u001b[0;32m\"<ipython-input-7-69455a263375>\"\u001b[0;36m, line \u001b[0;32m4\u001b[0m\n\u001b[0;31m    print(\"This is incorrectly indented and will cause an error\")\u001b[0m\n\u001b[0m    ^\u001b[0m\n\u001b[0;31mIndentationError\u001b[0m\u001b[0;31m:\u001b[0m unexpected indent\n"
          ]
        }
      ]
    },
    {
      "cell_type": "markdown",
      "source": [
        "The standard indent is 4 spaces (avoid using tabs). Blank lines should be used to separate logical sections of code.\n",
        "\n",
        "These structural practices will help you write clean Python code that is easy to read and maintain."
      ],
      "metadata": {
        "id": "WQeV7rQOw7x0"
      }
    },
    {
      "cell_type": "markdown",
      "source": [
        "**1.5 Variable Assignment**\n",
        "We can assign values to variables in Python using the = operator.\n",
        "\n",
        "**For example:**"
      ],
      "metadata": {
        "id": "kzcS3tY3w-vu"
      }
    },
    {
      "cell_type": "code",
      "source": [
        "# Assign variables\n",
        "name = \"John\"\n",
        "age = 25\n",
        "is_student = True\n",
        "\n",
        "print(name)\n",
        "print(age)\n",
        "print(is_student)"
      ],
      "metadata": {
        "colab": {
          "base_uri": "https://localhost:8080/"
        },
        "id": "1ninjvWDw6qQ",
        "outputId": "9ad61049-d0bd-4ec9-afa3-27a5d686335b"
      },
      "execution_count": null,
      "outputs": [
        {
          "output_type": "stream",
          "name": "stdout",
          "text": [
            "John\n",
            "25\n",
            "True\n"
          ]
        }
      ]
    },
    {
      "cell_type": "markdown",
      "source": [
        "- The value on the right of = is assigned to the variable on the left.\n",
        "- We can assign various Python data types like strings, integers, booleans etc.\n",
        "- No need to specify type while declaring variables. Python uses dynamic typing.\n",
        "- Variable names should be descriptive and in lowercase."
      ],
      "metadata": {
        "id": "2_HPJt_WxIa1"
      }
    },
    {
      "cell_type": "markdown",
      "source": [
        "**1.6 Data Types**\n",
        "Python has various standard data types that are used to define the operations possible on them and the storage method for each of them.\n",
        "\n",
        "Some important data types in Python:\n",
        "\n",
        "- **Integers** - Whole numbers like 10. Used for numeric operations.\n",
        "- **Float** - Decimal numbers like 5.67. Used for numeric operations.\n",
        "- **String** - Text data like \"Hello\". Used for text manipulation.\n",
        "- **Boolean** - Logical values True or False. Used for logical operations.\n",
        "- **List** - Ordered collection of objects like [1, 2, 3]. Used to store sequences of data.\n",
        "- **Tuple** - Ordered immutable collection of objects like (1, 2, 3). Used for fixed collections of data.\n",
        "- **Dictionary** - Unordered key-value pairs like {\"name\": \"John\"}. Used to store mappings of data."
      ],
      "metadata": {
        "id": "5VNOm02SxQHI"
      }
    },
    {
      "cell_type": "markdown",
      "source": [
        "We will cover these data types in detail in the upcoming chapters."
      ],
      "metadata": {
        "id": "N3CyePJMxn3W"
      }
    },
    {
      "cell_type": "markdown",
      "source": [
        "**1.7 Type Conversion**\n",
        "Sometimes we may need to convert between different data types in Python. We can convert using the following functions:\n",
        "\n",
        "- int(): Convert to integer\n",
        "- float(): Convert to float\n",
        "- str(): Convert to a string\n",
        "- list(): Convert to a list\n",
        "- tuple(): Convert to a tuple\n",
        "- dict(): Convert to a dictionary\n",
        "\n",
        "**For example:**"
      ],
      "metadata": {
        "id": "ki9BAgAAxq21"
      }
    },
    {
      "cell_type": "code",
      "source": [
        "x = 5   # integer\n",
        "\n",
        "x = float(x) # convert to float\n",
        "\n",
        "x = str(x) # convert to string\n",
        "\n",
        "x = list(x) # convert to list"
      ],
      "metadata": {
        "id": "TcZ9yu-cx-Ps"
      },
      "execution_count": null,
      "outputs": []
    },
    {
      "cell_type": "markdown",
      "source": [
        "**This covers the basic introductions to Python programming. The key topics were**:\n",
        "\n",
        "- Running Python code\n",
        "- Hello World program\n",
        "- Comments\n",
        "- Code structure\n",
        "- Print function\n",
        "- Variables and assignment\n",
        "- Data types\n",
        "- Type conversion"
      ],
      "metadata": {
        "id": "DcDDnUugyFLB"
      }
    }
  ]
}