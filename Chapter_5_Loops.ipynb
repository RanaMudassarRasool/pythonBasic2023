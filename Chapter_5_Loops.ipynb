{
  "nbformat": 4,
  "nbformat_minor": 0,
  "metadata": {
    "colab": {
      "provenance": [],
      "authorship_tag": "ABX9TyMZ1R3lEZZKd2yWg3W2+1ry",
      "include_colab_link": true
    },
    "kernelspec": {
      "name": "python3",
      "display_name": "Python 3"
    },
    "language_info": {
      "name": "python"
    }
  },
  "cells": [
    {
      "cell_type": "markdown",
      "metadata": {
        "id": "view-in-github",
        "colab_type": "text"
      },
      "source": [
        "<a href=\"https://colab.research.google.com/github/ranamaddy/pythonBasic2023/blob/main/Chapter_5_Loops.ipynb\" target=\"_parent\"><img src=\"https://colab.research.google.com/assets/colab-badge.svg\" alt=\"Open In Colab\"/></a>"
      ]
    },
    {
      "cell_type": "markdown",
      "source": [
        "Loops allow us to execute code repeatedly based on a condition. They are useful for automating repetitive tasks and iterating over sequences.\n",
        "\n",
        "The main loops in Python are for loop and while loop."
      ],
      "metadata": {
        "id": "1evSALQ_1NZ4"
      }
    },
    {
      "cell_type": "markdown",
      "source": [
        "**5.1 for Loop**\n",
        "The for loop executes a block of code for each item in a sequence like list, string, tuple etc.\n",
        "\n",
        "**Syntax:**"
      ],
      "metadata": {
        "id": "SrJsqNeZ1Q1m"
      }
    },
    {
      "cell_type": "code",
      "execution_count": null,
      "metadata": {
        "id": "v4QENtJK1H_A"
      },
      "outputs": [],
      "source": [
        "for item in sequence:\n",
        "  # code to execute"
      ]
    },
    {
      "cell_type": "markdown",
      "source": [
        "**For example:**"
      ],
      "metadata": {
        "id": "moHZ0tkt1bBq"
      }
    },
    {
      "cell_type": "code",
      "source": [
        "fruits = [\"apple\", \"banana\", \"mango\"]\n",
        "\n",
        "for fruit in fruits:\n",
        "  print(fruit)"
      ],
      "metadata": {
        "colab": {
          "base_uri": "https://localhost:8080/"
        },
        "id": "EC6TH2zR1dXu",
        "outputId": "6474ceac-6b74-4757-8bcd-2f46f58d79f3"
      },
      "execution_count": 1,
      "outputs": [
        {
          "output_type": "stream",
          "name": "stdout",
          "text": [
            "apple\n",
            "banana\n",
            "mango\n"
          ]
        }
      ]
    },
    {
      "cell_type": "markdown",
      "source": [
        "This loops over the fruits list and prints each element."
      ],
      "metadata": {
        "id": "TkF4N-qe2Vzk"
      }
    },
    {
      "cell_type": "markdown",
      "source": [
        "# Examples:\n",
        "\n",
        "1. Loop over a list of numbers"
      ],
      "metadata": {
        "id": "8AX8xVvp2Yk1"
      }
    },
    {
      "cell_type": "code",
      "source": [
        "numbers = [1, 2, 3, 4, 5]\n",
        "\n",
        "for num in numbers:\n",
        "  print(num)"
      ],
      "metadata": {
        "colab": {
          "base_uri": "https://localhost:8080/"
        },
        "id": "9ZzxsW9L2c5H",
        "outputId": "3a280785-31b7-40be-f2dc-c9789193f086"
      },
      "execution_count": 2,
      "outputs": [
        {
          "output_type": "stream",
          "name": "stdout",
          "text": [
            "1\n",
            "2\n",
            "3\n",
            "4\n",
            "5\n"
          ]
        }
      ]
    },
    {
      "cell_type": "markdown",
      "source": [
        "2. Loop over a string"
      ],
      "metadata": {
        "id": "fCo0_56c2f5V"
      }
    },
    {
      "cell_type": "code",
      "source": [
        "for char in \"Hello\":\n",
        "  print(char)"
      ],
      "metadata": {
        "colab": {
          "base_uri": "https://localhost:8080/"
        },
        "id": "4rrmRY4u2iWD",
        "outputId": "abd77a65-e8ae-41a5-8c2a-9c9a0fd8a6e6"
      },
      "execution_count": 3,
      "outputs": [
        {
          "output_type": "stream",
          "name": "stdout",
          "text": [
            "H\n",
            "e\n",
            "l\n",
            "l\n",
            "o\n"
          ]
        }
      ]
    },
    {
      "cell_type": "markdown",
      "source": [
        "3. Loop over a tuple"
      ],
      "metadata": {
        "id": "pS9NU8Uu2nil"
      }
    },
    {
      "cell_type": "code",
      "source": [
        "colors = (\"red\", \"blue\", \"green\")\n",
        "\n",
        "for color in colors:\n",
        "  print(color)"
      ],
      "metadata": {
        "colab": {
          "base_uri": "https://localhost:8080/"
        },
        "id": "8UDeU4fR2qk1",
        "outputId": "49a4bcb2-a191-4829-a883-6cac3d2eecd0"
      },
      "execution_count": 4,
      "outputs": [
        {
          "output_type": "stream",
          "name": "stdout",
          "text": [
            "red\n",
            "blue\n",
            "green\n"
          ]
        }
      ]
    },
    {
      "cell_type": "markdown",
      "source": [
        "4. Loop over a dictionary\n"
      ],
      "metadata": {
        "id": "dLte9SWI2tlD"
      }
    },
    {
      "cell_type": "code",
      "source": [
        "person = {\"name\": \"John\", \"age\": 25, \"job\": \"Developer\"}\n",
        "\n",
        "for key in person:\n",
        "  print(key, \":\", person[key])"
      ],
      "metadata": {
        "colab": {
          "base_uri": "https://localhost:8080/"
        },
        "id": "MqrGWooZ2v_y",
        "outputId": "9eb3635f-937f-4854-a8a3-07271b2159e6"
      },
      "execution_count": 5,
      "outputs": [
        {
          "output_type": "stream",
          "name": "stdout",
          "text": [
            "name : John\n",
            "age : 25\n",
            "job : Developer\n"
          ]
        }
      ]
    },
    {
      "cell_type": "markdown",
      "source": [
        "5. Loop with range()\n"
      ],
      "metadata": {
        "id": "LHj5G8eA22WC"
      }
    },
    {
      "cell_type": "code",
      "source": [
        "for i in range(5):\n",
        "  print(i)"
      ],
      "metadata": {
        "colab": {
          "base_uri": "https://localhost:8080/"
        },
        "id": "seIG2rsl24m9",
        "outputId": "408b506e-b43f-41de-a5f2-731c4f127fa6"
      },
      "execution_count": 6,
      "outputs": [
        {
          "output_type": "stream",
          "name": "stdout",
          "text": [
            "0\n",
            "1\n",
            "2\n",
            "3\n",
            "4\n"
          ]
        }
      ]
    },
    {
      "cell_type": "markdown",
      "source": [
        "6. Loop over a list with index\n"
      ],
      "metadata": {
        "id": "RJ4oCgxy27Q-"
      }
    },
    {
      "cell_type": "code",
      "source": [
        "languages = [\"Python\", \"Java\", \"C++\"]\n",
        "\n",
        "for i in range(len(languages)):\n",
        "  print(i, languages[i])"
      ],
      "metadata": {
        "colab": {
          "base_uri": "https://localhost:8080/"
        },
        "id": "g3w5QpOk29l0",
        "outputId": "4133e766-0316-4ca3-df45-85064af5c651"
      },
      "execution_count": 7,
      "outputs": [
        {
          "output_type": "stream",
          "name": "stdout",
          "text": [
            "0 Python\n",
            "1 Java\n",
            "2 C++\n"
          ]
        }
      ]
    },
    {
      "cell_type": "markdown",
      "source": [
        "7. Loop backwards over a list"
      ],
      "metadata": {
        "id": "h0PH7_HU3CHK"
      }
    },
    {
      "cell_type": "code",
      "source": [
        "for i in range(len(languages)-1, -1, -1):\n",
        "  print(languages[i])"
      ],
      "metadata": {
        "colab": {
          "base_uri": "https://localhost:8080/"
        },
        "id": "c3PhNI9Z3F5v",
        "outputId": "18811f69-e9a6-4163-835e-c49ad5692668"
      },
      "execution_count": 8,
      "outputs": [
        {
          "output_type": "stream",
          "name": "stdout",
          "text": [
            "C++\n",
            "Java\n",
            "Python\n"
          ]
        }
      ]
    },
    {
      "cell_type": "markdown",
      "source": [
        "8. Loop over list and modify elements"
      ],
      "metadata": {
        "id": "SRiuTFqY3JNh"
      }
    },
    {
      "cell_type": "code",
      "source": [
        "nums = [1, 2, 3, 4, 5]\n",
        "\n",
        "for i in range(len(nums)):\n",
        "  nums[i] = nums[i] * 2\n",
        "\n",
        "print(nums)"
      ],
      "metadata": {
        "colab": {
          "base_uri": "https://localhost:8080/"
        },
        "id": "tKGNaKPr3Lq9",
        "outputId": "4542b576-264c-4cec-b2d3-7d7524d7b6bc"
      },
      "execution_count": 9,
      "outputs": [
        {
          "output_type": "stream",
          "name": "stdout",
          "text": [
            "[2, 4, 6, 8, 10]\n"
          ]
        }
      ]
    },
    {
      "cell_type": "markdown",
      "source": [
        "9. Loop with else block"
      ],
      "metadata": {
        "id": "L20Qa3hr3PFq"
      }
    },
    {
      "cell_type": "code",
      "source": [
        "for i in range(5):\n",
        "  print(i)\n",
        "else:\n",
        "  print(\"Done\")"
      ],
      "metadata": {
        "colab": {
          "base_uri": "https://localhost:8080/"
        },
        "id": "9vQ49Wse3TM4",
        "outputId": "612e1f80-b463-4c52-bd33-c2a97bc83032"
      },
      "execution_count": 10,
      "outputs": [
        {
          "output_type": "stream",
          "name": "stdout",
          "text": [
            "0\n",
            "1\n",
            "2\n",
            "3\n",
            "4\n",
            "Done\n"
          ]
        }
      ]
    },
    {
      "cell_type": "markdown",
      "source": [
        "10. Nested for loops"
      ],
      "metadata": {
        "id": "FeTypqc73aEv"
      }
    },
    {
      "cell_type": "code",
      "source": [
        "for i in range(2):\n",
        "  for j in range(3):\n",
        "    print(i, j)"
      ],
      "metadata": {
        "colab": {
          "base_uri": "https://localhost:8080/"
        },
        "id": "iEoHqyH53eTX",
        "outputId": "91c09049-1448-421f-9bed-e3c158e0a167"
      },
      "execution_count": 11,
      "outputs": [
        {
          "output_type": "stream",
          "name": "stdout",
          "text": [
            "0 0\n",
            "0 1\n",
            "0 2\n",
            "1 0\n",
            "1 1\n",
            "1 2\n"
          ]
        }
      ]
    },
    {
      "cell_type": "markdown",
      "source": [
        "# 5.2 while Loop\n",
        "The while loop runs as long as a condition is true.\n",
        "\n",
        "**Syntax:**"
      ],
      "metadata": {
        "id": "wTLQr1Et3seE"
      }
    },
    {
      "cell_type": "code",
      "source": [
        "while condition:\n",
        "  # code to execute"
      ],
      "metadata": {
        "id": "TnIvD4k83yPC"
      },
      "execution_count": null,
      "outputs": []
    },
    {
      "cell_type": "markdown",
      "source": [
        "For example:"
      ],
      "metadata": {
        "id": "E4xkA8N_31_s"
      }
    },
    {
      "cell_type": "code",
      "source": [
        "count = 0\n",
        "while count < 5:\n",
        "  print(count)\n",
        "  count = count + 1"
      ],
      "metadata": {
        "colab": {
          "base_uri": "https://localhost:8080/"
        },
        "id": "HmYrlZVw34oh",
        "outputId": "1e764c83-03c9-46fd-e540-15ad14af6101"
      },
      "execution_count": 12,
      "outputs": [
        {
          "output_type": "stream",
          "name": "stdout",
          "text": [
            "0\n",
            "1\n",
            "2\n",
            "3\n",
            "4\n"
          ]
        }
      ]
    },
    {
      "cell_type": "markdown",
      "source": [
        "# Examples:\n",
        "\n",
        "1. Simple while loop"
      ],
      "metadata": {
        "id": "Es3Iyyxl38DG"
      }
    },
    {
      "cell_type": "code",
      "source": [
        "num = 0\n",
        "while num < 10:\n",
        "  print(num)\n",
        "  num += 1"
      ],
      "metadata": {
        "colab": {
          "base_uri": "https://localhost:8080/"
        },
        "id": "Oj9RqxEM3-pA",
        "outputId": "23b23b37-f10f-444c-fe4b-a5e0a77e6cea"
      },
      "execution_count": 13,
      "outputs": [
        {
          "output_type": "stream",
          "name": "stdout",
          "text": [
            "0\n",
            "1\n",
            "2\n",
            "3\n",
            "4\n",
            "5\n",
            "6\n",
            "7\n",
            "8\n",
            "9\n"
          ]
        }
      ]
    },
    {
      "cell_type": "markdown",
      "source": [
        "2. while loop with else"
      ],
      "metadata": {
        "id": "M1QGUe2k4B1w"
      }
    },
    {
      "cell_type": "code",
      "source": [
        "num = 1\n",
        "while num <= 5:\n",
        "  print(num)\n",
        "  num += 1\n",
        "else:\n",
        "  print(\"Loop completed\")"
      ],
      "metadata": {
        "colab": {
          "base_uri": "https://localhost:8080/"
        },
        "id": "wHnnl36C4D6e",
        "outputId": "e9986fd4-92f5-44f3-97a4-f4520c566485"
      },
      "execution_count": 14,
      "outputs": [
        {
          "output_type": "stream",
          "name": "stdout",
          "text": [
            "1\n",
            "2\n",
            "3\n",
            "4\n",
            "5\n",
            "Loop completed\n"
          ]
        }
      ]
    },
    {
      "cell_type": "markdown",
      "source": [
        "3. Break out of while loop"
      ],
      "metadata": {
        "id": "3tT7zrW_4OTG"
      }
    },
    {
      "cell_type": "code",
      "source": [
        "i = 1\n",
        "while True:\n",
        "  print(i)\n",
        "  i += 1\n",
        "  if i > 5:\n",
        "    break"
      ],
      "metadata": {
        "colab": {
          "base_uri": "https://localhost:8080/"
        },
        "id": "E23JgLpG4QPZ",
        "outputId": "25cbfa6a-2881-468a-b09b-c5270c513eab"
      },
      "execution_count": 15,
      "outputs": [
        {
          "output_type": "stream",
          "name": "stdout",
          "text": [
            "1\n",
            "2\n",
            "3\n",
            "4\n",
            "5\n"
          ]
        }
      ]
    },
    {
      "cell_type": "markdown",
      "source": [
        "4. Continue in while loop"
      ],
      "metadata": {
        "id": "jZizQ-i24S11"
      }
    },
    {
      "cell_type": "code",
      "source": [
        "i = 0\n",
        "while i < 10:\n",
        "  i += 1\n",
        "  if i % 2 == 0:\n",
        "    continue\n",
        "  print(i)"
      ],
      "metadata": {
        "colab": {
          "base_uri": "https://localhost:8080/"
        },
        "id": "1NBS21l44VxI",
        "outputId": "4d3534f5-f6f8-420b-fffb-71b0eef497ca"
      },
      "execution_count": 16,
      "outputs": [
        {
          "output_type": "stream",
          "name": "stdout",
          "text": [
            "1\n",
            "3\n",
            "5\n",
            "7\n",
            "9\n"
          ]
        }
      ]
    },
    {
      "cell_type": "markdown",
      "source": [
        "5. while and input"
      ],
      "metadata": {
        "id": "o8uDvte24Zld"
      }
    },
    {
      "cell_type": "code",
      "source": [
        "name = \"\"\n",
        "while name != \"exit\":\n",
        "  name = input(\"Enter name: \")\n",
        "  print(\"Hello\", name)"
      ],
      "metadata": {
        "colab": {
          "base_uri": "https://localhost:8080/"
        },
        "id": "WHVXsF704blu",
        "outputId": "bb306e72-ae03-44e5-9f9d-c566df7322a1"
      },
      "execution_count": 17,
      "outputs": [
        {
          "output_type": "stream",
          "name": "stdout",
          "text": [
            "Enter name: 1\n",
            "Hello 1\n",
            "Enter name: 2\n",
            "Hello 2\n",
            "Enter name: 3\n",
            "Hello 3\n",
            "Enter name: exit\n",
            "Hello exit\n"
          ]
        }
      ]
    },
    {
      "cell_type": "markdown",
      "source": [
        "6. Find factorial with while loop"
      ],
      "metadata": {
        "id": "IWDtUbI44lkz"
      }
    },
    {
      "cell_type": "code",
      "source": [
        "num = 5\n",
        "factorial = 1\n",
        "while num > 1:\n",
        "  factorial = factorial * num\n",
        "  num -= 1\n",
        "print(factorial)"
      ],
      "metadata": {
        "colab": {
          "base_uri": "https://localhost:8080/"
        },
        "id": "WPPsFQAz4nh6",
        "outputId": "3eabbc3e-a89a-4099-df9d-09b0cfe99dae"
      },
      "execution_count": 18,
      "outputs": [
        {
          "output_type": "stream",
          "name": "stdout",
          "text": [
            "120\n"
          ]
        }
      ]
    },
    {
      "cell_type": "markdown",
      "source": [
        "7. Guess number game with while loop"
      ],
      "metadata": {
        "id": "O1SAG9yb4qJk"
      }
    },
    {
      "cell_type": "code",
      "source": [
        "secret_num = 7\n",
        "guess = 0\n",
        "while guess != secret_num:\n",
        "  guess = int(input(\"Guess the number: \"))\n",
        "print(\"You guessed the number!\")"
      ],
      "metadata": {
        "colab": {
          "base_uri": "https://localhost:8080/"
        },
        "id": "jN9_alTK4sUT",
        "outputId": "a5f86f9b-ef3d-4445-8df5-f6c9a806e701"
      },
      "execution_count": 19,
      "outputs": [
        {
          "output_type": "stream",
          "name": "stdout",
          "text": [
            "Guess the number: 12\n",
            "Guess the number: 12\n",
            "Guess the number: 7\n",
            "You guessed the number!\n"
          ]
        }
      ]
    },
    {
      "cell_type": "markdown",
      "source": [
        "8. Print a pattern using while loop"
      ],
      "metadata": {
        "id": "La8Nrz9N5A8V"
      }
    },
    {
      "cell_type": "code",
      "source": [
        "i = 1\n",
        "while i <= 5:\n",
        "  print(\"*\" * i)\n",
        "  i += 1"
      ],
      "metadata": {
        "colab": {
          "base_uri": "https://localhost:8080/"
        },
        "id": "gqTFtAQZ5EDt",
        "outputId": "fd9ce774-bb1f-4e4b-e3e9-078292d104a0"
      },
      "execution_count": 20,
      "outputs": [
        {
          "output_type": "stream",
          "name": "stdout",
          "text": [
            "*\n",
            "**\n",
            "***\n",
            "****\n",
            "*****\n"
          ]
        }
      ]
    },
    {
      "cell_type": "markdown",
      "source": [
        "9. Reverse a string using while loop"
      ],
      "metadata": {
        "id": "SCaPCwi85Moi"
      }
    },
    {
      "cell_type": "code",
      "source": [
        "string = \"Python\"\n",
        "reverse = \"\"\n",
        "index = len(string) - 1\n",
        "\n",
        "while index >= 0:\n",
        "  reverse += string[index]\n",
        "  index -= 1\n",
        "\n",
        "print(reverse)"
      ],
      "metadata": {
        "colab": {
          "base_uri": "https://localhost:8080/"
        },
        "id": "qfbS5oC95QRR",
        "outputId": "6406ab00-3dac-4c7e-d275-4ea09ed1ee99"
      },
      "execution_count": 21,
      "outputs": [
        {
          "output_type": "stream",
          "name": "stdout",
          "text": [
            "nohtyP\n"
          ]
        }
      ]
    },
    {
      "cell_type": "markdown",
      "source": [
        "10. Calculate sum of n numbers"
      ],
      "metadata": {
        "id": "ccEKGRb15VQJ"
      }
    },
    {
      "cell_type": "code",
      "source": [
        "n = 10\n",
        "sum = 0\n",
        "num = 1\n",
        "while num <= n:\n",
        "  sum += num\n",
        "  num += 1\n",
        "\n",
        "print(sum)"
      ],
      "metadata": {
        "colab": {
          "base_uri": "https://localhost:8080/"
        },
        "id": "MKwyt5i85Xu5",
        "outputId": "ba2dc63a-b4e4-48c5-c784-ce891513809e"
      },
      "execution_count": 22,
      "outputs": [
        {
          "output_type": "stream",
          "name": "stdout",
          "text": [
            "55\n"
          ]
        }
      ]
    },
    {
      "cell_type": "markdown",
      "source": [
        "# Questions\n",
        "\n",
        "- Write a for loop that prints all elements in a list.\n",
        "- Print the table of a given number using for loop.\n",
        "- Find the sum of all numbers from 1 to a given number using a for loop.\n",
        "- Print the first 10 even natural numbers using for loop.\n",
        "- Print the multiplication table of a given number using for loop.\n",
        "- Count the total number of digits in a given number using loop.\n",
        "- Print all armstrong numbers in a given range using for loop.\n",
        "- Check if a given number is prime or not using loops.\n",
        "- Print all prime numbers between 1 to 100 using for loop.\n",
        "- Take integers as input from user to form a list. Print the list using for loop.\n",
        "- Accept a string from user. Print all the characters in the string using loop.\n",
        "- Count and print the number of vowels in a given string using loop.\n",
        "- Print the following pattern using loop: 1 2 3 4 5 6 7 8 9 10\n",
        "- Reverse a given string using loop.\n",
        "- Calculate the factorial of a given number using loop.\n",
        "- Print the Fibonacci sequence up to a given number using loop.\n",
        "- Check if a given number is Armstrong number using loop.\n",
        "- Find the sum of digits of a given number using loop.\n",
        "- Print all the letters from 'a' to 'z' using loop.\n",
        "- Write a loop to find the largest number from a list of numbers.\n",
        "- Take integers as input and find the smallest number using loop.\n",
        "- Write a loop to find the factorial of all numbers from 1 to 10.\n",
        "- Write a loop to display powers of 2 from 1 to 10.\n",
        "- Use loop to print all even numbers from 100 to 200.\n",
        "- Use loop to print all odd numbers from 10 to 20.\n",
        "- Use while loop to print squares of numbers from 1 to 10.\n",
        "- Write a loop to find the summation of all even numbers till n. Take n as input.\n",
        "- Take number of rows as input and print pascal triangle pattern.\n",
        "- Take number of rows as input and print Floyd's triangle."
      ],
      "metadata": {
        "id": "6dMDkP8B5x1B"
      }
    },
    {
      "cell_type": "markdown",
      "source": [
        "# Rana Mudassar Rasool"
      ],
      "metadata": {
        "id": "kVvs_2o76QsW"
      }
    }
  ]
}