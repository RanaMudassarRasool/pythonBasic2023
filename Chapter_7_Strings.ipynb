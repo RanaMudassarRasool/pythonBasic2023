{
  "nbformat": 4,
  "nbformat_minor": 0,
  "metadata": {
    "colab": {
      "provenance": [],
      "authorship_tag": "ABX9TyNoweM4x8PsFkbU/gx/46ki",
      "include_colab_link": true
    },
    "kernelspec": {
      "name": "python3",
      "display_name": "Python 3"
    },
    "language_info": {
      "name": "python"
    }
  },
  "cells": [
    {
      "cell_type": "markdown",
      "metadata": {
        "id": "view-in-github",
        "colab_type": "text"
      },
      "source": [
        "<a href=\"https://colab.research.google.com/github/ranamaddy/pythonBasic2023/blob/main/Chapter_7_Strings.ipynb\" target=\"_parent\"><img src=\"https://colab.research.google.com/assets/colab-badge.svg\" alt=\"Open In Colab\"/></a>"
      ]
    },
    {
      "cell_type": "markdown",
      "source": [
        "Strings are sequences of characters represented in quotation marks. Python has a variety of built-in methods and formatting options for working with string data."
      ],
      "metadata": {
        "id": "2Dg-KbBQOHib"
      }
    },
    {
      "cell_type": "markdown",
      "source": [
        "**7.1 String Methods**\n",
        "Python strings have many useful methods that allow you to manipulate and modify the string contents. Some common methods are:"
      ],
      "metadata": {
        "id": "90_DR0wZOKQ5"
      }
    },
    {
      "cell_type": "markdown",
      "source": [
        "**len() - Returns length of string**"
      ],
      "metadata": {
        "id": "wMmEXKQvONA4"
      }
    },
    {
      "cell_type": "code",
      "execution_count": 1,
      "metadata": {
        "colab": {
          "base_uri": "https://localhost:8080/"
        },
        "id": "K4-Wi4SsN4qG",
        "outputId": "62a01086-ef36-4d86-f239-fff0eae45339"
      },
      "outputs": [
        {
          "output_type": "stream",
          "name": "stdout",
          "text": [
            "4\n"
          ]
        }
      ],
      "source": [
        "name = \"John\"\n",
        "print(len(name)) # 4"
      ]
    },
    {
      "cell_type": "markdown",
      "source": [
        "**upper() - Converts string to upper case**"
      ],
      "metadata": {
        "id": "ir5DuddmOSsW"
      }
    },
    {
      "cell_type": "code",
      "source": [
        "name = \"john\"\n",
        "print(name.upper()) # JOHN"
      ],
      "metadata": {
        "colab": {
          "base_uri": "https://localhost:8080/"
        },
        "id": "92uCIQjHOVSX",
        "outputId": "7a94a6d0-7e35-4711-910b-1b8d244e6554"
      },
      "execution_count": 2,
      "outputs": [
        {
          "output_type": "stream",
          "name": "stdout",
          "text": [
            "JOHN\n"
          ]
        }
      ]
    },
    {
      "cell_type": "markdown",
      "source": [
        "**lower() - Converts string to lower case**"
      ],
      "metadata": {
        "id": "okH7UboxOY2S"
      }
    },
    {
      "cell_type": "code",
      "source": [
        "name = \"JOHN\"\n",
        "print(name.lower()) # john"
      ],
      "metadata": {
        "colab": {
          "base_uri": "https://localhost:8080/"
        },
        "id": "CSa8YNUIOYgx",
        "outputId": "eb4db434-70c1-47a5-ead4-e4a3a23bf3a1"
      },
      "execution_count": 3,
      "outputs": [
        {
          "output_type": "stream",
          "name": "stdout",
          "text": [
            "john\n"
          ]
        }
      ]
    },
    {
      "cell_type": "markdown",
      "source": [
        "**title() - Converts string to title case**"
      ],
      "metadata": {
        "id": "s7CxIDgiOfnD"
      }
    },
    {
      "cell_type": "code",
      "source": [
        "name = \"john smith\"\n",
        "print(name.title()) # John Smith"
      ],
      "metadata": {
        "colab": {
          "base_uri": "https://localhost:8080/"
        },
        "id": "DG8wz_ZgOhzr",
        "outputId": "aa0b2c3f-3ae1-4017-892c-bef9a53c1114"
      },
      "execution_count": 4,
      "outputs": [
        {
          "output_type": "stream",
          "name": "stdout",
          "text": [
            "John Smith\n"
          ]
        }
      ]
    },
    {
      "cell_type": "markdown",
      "source": [
        "**split() - Splits string into list by space**"
      ],
      "metadata": {
        "id": "flJmuMs2OmQI"
      }
    },
    {
      "cell_type": "code",
      "source": [
        "name = \"John Smith\"\n",
        "print(name.split()) # ['John', 'Smith']"
      ],
      "metadata": {
        "colab": {
          "base_uri": "https://localhost:8080/"
        },
        "id": "NGLlgbcuOpdu",
        "outputId": "dd100117-03fd-442a-a4ba-6705cb198ec0"
      },
      "execution_count": 5,
      "outputs": [
        {
          "output_type": "stream",
          "name": "stdout",
          "text": [
            "['John', 'Smith']\n"
          ]
        }
      ]
    },
    {
      "cell_type": "markdown",
      "source": [
        "**find() - Finds index of substring if exists**"
      ],
      "metadata": {
        "id": "djw5-7J4OusV"
      }
    },
    {
      "cell_type": "code",
      "source": [
        "name = \"John Smith\"\n",
        "print(name.find(\"Smith\")) # 5"
      ],
      "metadata": {
        "colab": {
          "base_uri": "https://localhost:8080/"
        },
        "id": "Z3ZZnk4SOxTf",
        "outputId": "8e3d9b82-d38a-4fcd-9c8c-7e85dac4f74f"
      },
      "execution_count": 6,
      "outputs": [
        {
          "output_type": "stream",
          "name": "stdout",
          "text": [
            "5\n"
          ]
        }
      ]
    },
    {
      "cell_type": "markdown",
      "source": [
        "**replace() - Replaces substring in string**"
      ],
      "metadata": {
        "id": "a7qJ5lldO0G2"
      }
    },
    {
      "cell_type": "code",
      "source": [
        "text = \"Hello World\"\n",
        "print(text.replace(\"World\", \"Universe\")) # Hello Universe"
      ],
      "metadata": {
        "colab": {
          "base_uri": "https://localhost:8080/"
        },
        "id": "FdaUGg6wO2ba",
        "outputId": "6e319819-d08c-4cc3-9713-210808219e07"
      },
      "execution_count": 7,
      "outputs": [
        {
          "output_type": "stream",
          "name": "stdout",
          "text": [
            "Hello Universe\n"
          ]
        }
      ]
    },
    {
      "cell_type": "markdown",
      "source": [
        "**7.2 String Formatting**"
      ],
      "metadata": {
        "id": "zbqiZaBWO6Xa"
      }
    },
    {
      "cell_type": "markdown",
      "source": [
        "Python allows formatting strings using %-formatting and str.format():"
      ],
      "metadata": {
        "id": "DRyRewdVO-ve"
      }
    },
    {
      "cell_type": "markdown",
      "source": [
        "**%-formatting**"
      ],
      "metadata": {
        "id": "LWknXQiIPBVS"
      }
    },
    {
      "cell_type": "code",
      "source": [
        "name = \"John\"\n",
        "print(\"Hello %s\" % name) # Hello John"
      ],
      "metadata": {
        "colab": {
          "base_uri": "https://localhost:8080/"
        },
        "id": "lfqbIgShPAlg",
        "outputId": "8f5c87e1-8b0a-4255-e112-4bd00af5d293"
      },
      "execution_count": 8,
      "outputs": [
        {
          "output_type": "stream",
          "name": "stdout",
          "text": [
            "Hello John\n"
          ]
        }
      ]
    },
    {
      "cell_type": "markdown",
      "source": [
        "**str.format()**"
      ],
      "metadata": {
        "id": "M90EnERmPGHv"
      }
    },
    {
      "cell_type": "code",
      "source": [
        "name = \"John\"\n",
        "print(\"Hello {0}\".format(name)) # Hello John"
      ],
      "metadata": {
        "colab": {
          "base_uri": "https://localhost:8080/"
        },
        "id": "l1lObLRyPIMu",
        "outputId": "2f6d6e5b-236e-4a35-8a89-6568874e6779"
      },
      "execution_count": 9,
      "outputs": [
        {
          "output_type": "stream",
          "name": "stdout",
          "text": [
            "Hello John\n"
          ]
        }
      ]
    },
    {
      "cell_type": "markdown",
      "source": [
        "Useful for interpolating variables and values into strings.\n",
        "\n",
        "We can also format numbers and decimals:"
      ],
      "metadata": {
        "id": "nZAfuSvIPLA7"
      }
    },
    {
      "cell_type": "code",
      "source": [
        "pi = 3.14159\n",
        "print(\"Pi is %.2f\" % pi) # Pi is 3.14"
      ],
      "metadata": {
        "colab": {
          "base_uri": "https://localhost:8080/"
        },
        "id": "YXybxMQBPM4z",
        "outputId": "36510363-74a8-483f-d696-8fae4a516772"
      },
      "execution_count": 10,
      "outputs": [
        {
          "output_type": "stream",
          "name": "stdout",
          "text": [
            "Pi is 3.14\n"
          ]
        }
      ]
    },
    {
      "cell_type": "markdown",
      "source": [
        "**7.3 Working with String Input**\n",
        "We can take string input from the user using the input() function:"
      ],
      "metadata": {
        "id": "35Mfu3o6PPoG"
      }
    },
    {
      "cell_type": "code",
      "source": [
        "name = input(\"Enter your name: \")\n",
        "print(\"Hello\", name)"
      ],
      "metadata": {
        "colab": {
          "base_uri": "https://localhost:8080/"
        },
        "id": "rn97FSCoPRzB",
        "outputId": "b43cb511-f237-48d9-c0d1-5c995f3cdd67"
      },
      "execution_count": 11,
      "outputs": [
        {
          "output_type": "stream",
          "name": "stdout",
          "text": [
            "Enter your name: usman\n",
            "Hello usman\n"
          ]
        }
      ]
    },
    {
      "cell_type": "markdown",
      "source": [
        "We can also assign input to multiple variables:"
      ],
      "metadata": {
        "id": "3mGA096_PXi1"
      }
    },
    {
      "cell_type": "code",
      "source": [
        "fname, lname = input(\"Enter your first and last name: \").split()"
      ],
      "metadata": {
        "colab": {
          "base_uri": "https://localhost:8080/"
        },
        "id": "9IqyzUrbPZxD",
        "outputId": "af0158e1-b8dd-4903-9ae1-abd1f595fcff"
      },
      "execution_count": 12,
      "outputs": [
        {
          "name": "stdout",
          "output_type": "stream",
          "text": [
            "Enter your first and last name: rana mudassar\n"
          ]
        }
      ]
    },
    {
      "cell_type": "markdown",
      "source": [
        "**startswith() and endswith()**\n",
        "\n",
        "These methods check if a string starts or ends with the given substring."
      ],
      "metadata": {
        "id": "HY7QA8FYQN0k"
      }
    },
    {
      "cell_type": "code",
      "source": [
        "name = \"John\"\n",
        "\n",
        "print(name.startswith(\"J\")) # True\n",
        "print(name.endswith(\"n\")) # True"
      ],
      "metadata": {
        "colab": {
          "base_uri": "https://localhost:8080/"
        },
        "id": "EoAzf6fWQSuK",
        "outputId": "cd689b18-7947-4f1a-854c-00a9cbc0119b"
      },
      "execution_count": 13,
      "outputs": [
        {
          "output_type": "stream",
          "name": "stdout",
          "text": [
            "True\n",
            "True\n"
          ]
        }
      ]
    },
    {
      "cell_type": "markdown",
      "source": [
        "**isdigit(), isalpha(), isalnum()**\n",
        "\n",
        "These check if string contains only digits, alphabets or alphanumeric characters respectively."
      ],
      "metadata": {
        "id": "Xj8UBDWhQXKX"
      }
    },
    {
      "cell_type": "code",
      "source": [
        "s1 = \"123\"\n",
        "s2 = \"abc\"\n",
        "s3 = \"123abc\"\n",
        "\n",
        "print(s1.isdigit()) # True\n",
        "print(s2.isalpha()) # True\n",
        "print(s3.isalnum()) # True"
      ],
      "metadata": {
        "colab": {
          "base_uri": "https://localhost:8080/"
        },
        "id": "QdvQBBCtQajC",
        "outputId": "f5242212-f9fd-450b-c96e-ff724e78fe88"
      },
      "execution_count": 14,
      "outputs": [
        {
          "output_type": "stream",
          "name": "stdout",
          "text": [
            "True\n",
            "True\n",
            "True\n"
          ]
        }
      ]
    },
    {
      "cell_type": "markdown",
      "source": [
        "**join()**\n",
        "\n",
        "Joins a list of strings with another string as separator."
      ],
      "metadata": {
        "id": "CB4OJHP_QZnr"
      }
    },
    {
      "cell_type": "code",
      "source": [
        "names = [\"John\", \"Bob\", \"Sarah\"]\n",
        "print(\", \".join(names)) # John, Bob, Sarah"
      ],
      "metadata": {
        "colab": {
          "base_uri": "https://localhost:8080/"
        },
        "id": "gWxedTD3QgTN",
        "outputId": "559719cb-cdc1-43c6-80ff-d31c2231b773"
      },
      "execution_count": 15,
      "outputs": [
        {
          "output_type": "stream",
          "name": "stdout",
          "text": [
            "John, Bob, Sarah\n"
          ]
        }
      ]
    },
    {
      "cell_type": "markdown",
      "source": [
        "**strip(), rstrip(), lstrip()**\n",
        "\n",
        "Strips whitespace characters from left, right or both ends."
      ],
      "metadata": {
        "id": "7NY6l24TQkqW"
      }
    },
    {
      "cell_type": "code",
      "source": [
        "s = \"   Hello World   \"\n",
        "print(s.strip()) # Hello World"
      ],
      "metadata": {
        "colab": {
          "base_uri": "https://localhost:8080/"
        },
        "id": "SXd16d8BQm-X",
        "outputId": "5bb54d88-f242-4d28-c70f-cefa3da5a476"
      },
      "execution_count": 16,
      "outputs": [
        {
          "output_type": "stream",
          "name": "stdout",
          "text": [
            "Hello World\n"
          ]
        }
      ]
    },
    {
      "cell_type": "markdown",
      "source": [
        "**replace()**\n",
        "\n",
        "Replaces matching substring with another string."
      ],
      "metadata": {
        "id": "7wgSuRDcQp4T"
      }
    },
    {
      "cell_type": "code",
      "source": [
        "text = \"Hello World\"\n",
        "print(text.replace(\"World\", \"Universe\")) # Hello Universe"
      ],
      "metadata": {
        "colab": {
          "base_uri": "https://localhost:8080/"
        },
        "id": "YxoUxZgSQs_o",
        "outputId": "27aca1a3-a0b3-49ff-d2ec-df738de165ef"
      },
      "execution_count": 17,
      "outputs": [
        {
          "output_type": "stream",
          "name": "stdout",
          "text": [
            "Hello Universe\n"
          ]
        }
      ]
    },
    {
      "cell_type": "markdown",
      "source": [
        "**split()**\n",
        "\n",
        "Splits string into list on specified separator."
      ],
      "metadata": {
        "id": "OgA6k_R6Qvxs"
      }
    },
    {
      "cell_type": "code",
      "source": [
        "s = \"John,Bob,Sarah\"\n",
        "print(s.split(\",\")) # ['John', 'Bob', 'Sarah']"
      ],
      "metadata": {
        "colab": {
          "base_uri": "https://localhost:8080/"
        },
        "id": "-DnoM8w7QyIG",
        "outputId": "11b51d1d-35eb-450e-a262-4f7cbd527796"
      },
      "execution_count": 18,
      "outputs": [
        {
          "output_type": "stream",
          "name": "stdout",
          "text": [
            "['John', 'Bob', 'Sarah']\n"
          ]
        }
      ]
    },
    {
      "cell_type": "markdown",
      "source": [
        "- Write a program to take the user's first and last name as input and print the full name in title case.\n",
        "- Write a program to input a string and print it in upper case.\n",
        "- Take two strings as input and print the concatenated string.\n",
        "- Take the user's name as input and print \"Hello [name]!\"\n",
        "- Take a multiline string input from user and print each line separately.\n",
        "- Take string input from user and print only the uppercase characters.\n",
        "- Write a program to take an email address as input and print the username and domain name separately.\n",
        "- Write a program to take filename as input and print the extension of the filename.\n",
        "- Take two integers as input and print a string formatting them using % operator.\n",
        "- Take string input from user and print only the consonants using string methods.\n",
        "- Write a program to print mirrored right triangle star pattern using *.\n",
        "- Take date as input in DD/MM/YY format and convert it to YY/MM/DD format using string methods.\n",
        "- Take an integer as input and print \"Prime\" if it is prime else print \"Not Prime\".\n",
        "- Take two version numbers as input and compare them using string comparison. Print newer version.\n",
        "- Take an email address as input and print validity based on presence of @ and . in string."
      ],
      "metadata": {
        "id": "0f-S0n10PruW"
      }
    }
  ]
}